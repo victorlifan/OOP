{
 "cells": [
  {
   "cell_type": "code",
   "execution_count": 1,
   "metadata": {},
   "outputs": [],
   "source": [
    "class Clients:\n",
    "    code =1\n",
    "    def __init__(self, name, age, code, passport_num):\n",
    "        self.name= name\n",
    "        self.age= age\n",
    "        self.code +=1\n",
    "        self.passport_num = passport_num"
   ]
  },
  {
   "cell_type": "code",
   "execution_count": 2,
   "metadata": {},
   "outputs": [],
   "source": [
    "class Rectangle:\n",
    "    def __init__(self, length, width , color):\n",
    "        self.length = length\n",
    "        self.width= width\n",
    "        self.color= color"
   ]
  },
  {
   "cell_type": "code",
   "execution_count": 7,
   "metadata": {},
   "outputs": [
    {
     "data": {
      "text/plain": [
       "5"
      ]
     },
     "execution_count": 7,
     "metadata": {},
     "output_type": "execute_result"
    }
   ],
   "source": [
    "my_rectangle = Rectangle(5,4,\"Blue\")\n",
    "my_rectangle.length"
   ]
  },
  {
   "cell_type": "code",
   "execution_count": 13,
   "metadata": {},
   "outputs": [],
   "source": [
    "class Circle:\n",
    "    def __init__(self, radius):\n",
    "        self.radius= radius\n",
    "my_circle= Circle(8)"
   ]
  },
  {
   "cell_type": "code",
   "execution_count": 15,
   "metadata": {},
   "outputs": [
    {
     "data": {
      "text/plain": [
       "2"
      ]
     },
     "execution_count": 15,
     "metadata": {},
     "output_type": "execute_result"
    }
   ],
   "source": [
    "my_circle.radius=2\n",
    "my_circle.radius"
   ]
  },
  {
   "cell_type": "code",
   "execution_count": 18,
   "metadata": {},
   "outputs": [],
   "source": [
    "class Bacterium:\n",
    "    # Complete the class\n",
    "    # Create 3 instances\n",
    "    def __init__(self, x,y, classification, shape, life_counter=\"antibiotic\"):\n",
    "        self.x=x\n",
    "        self.y=y\n",
    "        self.life_counter=life_counter\n",
    "        self.classification=classification\n",
    "        self.shape=sha"
   ]
  },
  {
   "cell_type": "code",
   "execution_count": 22,
   "metadata": {},
   "outputs": [],
   "source": [
    "# %load \"Mini+Project+-+Bakery+System+-+Fix+the+Bugs.py\"\n",
    "class Donut:\n",
    "        def __ini__(self, flavor, toppings, filling, size):\n",
    "                self.flavor = flavor\n",
    "                self.toppings = toppings\n",
    "                self.filling = filling\n",
    "                self.size = self.size\n",
    "\n",
    "class Customer:\n",
    "    def __init__(self, name, age, address, favorite_dessert):\n",
    "        self.name = name\n",
    "        self.age = age\n",
    "        self.address = address\n",
    "        self.favorite_dessert = self.favorite_dessert\n",
    "\n",
    "class Cake:\n",
    "    def __init__(self, flavor, price, quality):\n",
    "        self.flavor = flavor\n",
    "        self.price = price\n",
    "        self.quality = quality\n"
   ]
  },
  {
   "cell_type": "code",
   "execution_count": 25,
   "metadata": {},
   "outputs": [],
   "source": [
    "class Spider:\n",
    "    # class attribute\n",
    "    num_legs= 8\n",
    "    def __init__(self, code, species, weight, size):\n",
    "        self.code=code\n",
    "        slef.species=species\n",
    "        self.weight=weight\n",
    "        self.size= size"
   ]
  },
  {
   "cell_type": "code",
   "execution_count": 26,
   "metadata": {
    "scrolled": true
   },
   "outputs": [
    {
     "data": {
      "text/plain": [
       "8"
      ]
     },
     "execution_count": 26,
     "metadata": {},
     "output_type": "execute_result"
    }
   ],
   "source": [
    "Spider.num_legs"
   ]
  },
  {
   "cell_type": "code",
   "execution_count": 27,
   "metadata": {},
   "outputs": [],
   "source": [
    "class Enemy:\n",
    "    speed= 8\n",
    "    def __init__(self, x, y, difficulty):\n",
    "        self.x=x\n",
    "        self.y=y\n",
    "        self.difficulty=difficulty"
   ]
  },
  {
   "cell_type": "code",
   "execution_count": 37,
   "metadata": {},
   "outputs": [
    {
     "data": {
      "text/plain": [
       "15"
      ]
     },
     "execution_count": 37,
     "metadata": {},
     "output_type": "execute_result"
    }
   ],
   "source": [
    "Enemy.speed=15\n",
    "Enemy.speed"
   ]
  },
  {
   "cell_type": "code",
   "execution_count": 39,
   "metadata": {
    "scrolled": true
   },
   "outputs": [
    {
     "name": "stdout",
     "output_type": "stream",
     "text": [
      "\n",
      "========= Welcome to our Payroll System =========\n",
      "\n",
      "Jack's salary is: $9333.33\n",
      "Isabel's salary is: $9333.33\n",
      "Nora's salary is: $4466.67\n",
      "\n",
      "The total payroll this month will be: $ 23133.33\n"
     ]
    }
   ],
   "source": [
    "# %load \"Mini+Project+-+Complete+the+Payroll+System.py\"\n",
    "# Classes ==================================================================\n",
    "\n",
    "class Programmer:\n",
    "    \n",
    "    # Add the class attributes\n",
    "    salary = 100000\n",
    "    monthly_bonus = 1000\n",
    "    def __init__(self, name, age, address, phone, programming_languages):\n",
    "        self.name = name\n",
    "        self.age = age\n",
    "        self.address = address\n",
    "        self.phone = phone\n",
    "        self.programming_languages = programming_languages\n",
    "\n",
    "class Assistant:\n",
    "    \n",
    "    # Add the class attributes\n",
    "    salary = 50000\n",
    "    monthly_bonus = 300\n",
    "    def __init__(self, name, age, address, phone, bilingual):\n",
    "        self.name = name\n",
    "        self.age = age\n",
    "        self.address = address\n",
    "        self.phone = phone\n",
    "        self.bilingual = bilingual\n",
    "\n",
    "# Program ==================================================================\n",
    "\n",
    "# Function that prints the monthly salary of each worker\n",
    "# and the total amount that the startup owner has to pay per month\n",
    "def calculate_payroll(employees):\n",
    "\n",
    "    total = 0\n",
    "\n",
    "    print(\"\\n========= Welcome to our Payroll System =========\\n\")\n",
    "\n",
    "    # Iterate over the list of instances to calculate\n",
    "    # and display the monthly salary of each employee,\n",
    "    # and add the monthly salary to the total for this month\n",
    "    for employee in employees:\n",
    "        salary = round(employee.salary / 12, 2) + employee.monthly_bonus\n",
    "        print(employee.name.capitalize() + \"'s salary is: $\" + str(salary))\n",
    "        total += salary\n",
    "\n",
    "    # Display the total \n",
    "    print(\"\\nThe total payroll this month will be: $\", total)\n",
    "\n",
    "# Instances (employees)\n",
    "jack = Programmer(\"Jack\", 45, \"5th Avenue\", \"555-563-345\", [\"Python\", \"Java\"])\n",
    "isabel = Programmer(\"Isabel\", 25, \"6th Avenue\", \"234-245-853\", [\"JavaScript\"])\n",
    "nora = Assistant(\"Nora\", 23, \"7th Avenue\", \"562-577-333\", True)\n",
    "\n",
    "# List of instances\n",
    "employees = [jack, isabel, nora]\n",
    "\n",
    "# Function call - Passing the list of instances as argument\n",
    "calculate_payroll(employees)\n"
   ]
  },
  {
   "cell_type": "code",
   "execution_count": 44,
   "metadata": {},
   "outputs": [],
   "source": [
    "class Player:\n",
    "    def __init__(self, username, rank, time_palyed, id_num):\n",
    "        self.username=username\n",
    "        # \"_\", indicate private attribute, conventional\n",
    "        self._rank=rank\n",
    "        self._time_played= time_palyed\n",
    "        # \"__\", another way to indicate private attribute\n",
    "        self.__id_num= id_num"
   ]
  },
  {
   "cell_type": "code",
   "execution_count": 46,
   "metadata": {},
   "outputs": [
    {
     "name": "stdout",
     "output_type": "stream",
     "text": [
      "150\n"
     ]
    },
    {
     "data": {
      "text/plain": [
       "'4545435'"
      ]
     },
     "execution_count": 46,
     "metadata": {},
     "output_type": "execute_result"
    }
   ],
   "source": [
    "player=Player(\"mario56\", 150, 1000, \"4545435\")\n",
    "print(player._rank)\n",
    "player._Player__id_num"
   ]
  },
  {
   "cell_type": "code",
   "execution_count": 59,
   "metadata": {},
   "outputs": [],
   "source": [
    "class Patient:\n",
    "    def __init__(self, name, age, id_num, num_children=0):\n",
    "        self.name=name\n",
    "        self.age=age\n",
    "        self._id_num=id_num\n",
    "        self._num_children=num_children\n",
    "        \n",
    "    def get_id_num(self):\n",
    "        print(\"getter\")\n",
    "        return self._id_num\n",
    "    def set_id_num(self, new_id):\n",
    "        print(\"setter\")\n",
    "        if isinstance(new_id, str):\n",
    "            self._id_num= new_id\n",
    "        else:\n",
    "            print(\"Please enter a valid ID\")\n",
    "    \n",
    "    id_num=property(get_id_num,set_id_num)\n",
    "    \n",
    "    def set_num_childern(self):\n",
    "        return self.num_children\n",
    "    def set_num_children(self, num_children):\n",
    "        if isinstance(num_children, int) and 0<num_children<70:\n",
    "            self._num_children=num_children\n",
    "        else:\n",
    "            print(\"please enter a valid # of children\")\n",
    "            \n",
    "    num_children= property(set_num_childern, set_num_children)"
   ]
  },
  {
   "cell_type": "code",
   "execution_count": 60,
   "metadata": {
    "scrolled": true
   },
   "outputs": [
    {
     "name": "stdout",
     "output_type": "stream",
     "text": [
      "setter\n",
      "getter\n"
     ]
    },
    {
     "data": {
      "text/plain": [
       "'455354'"
      ]
     },
     "execution_count": 60,
     "metadata": {},
     "output_type": "execute_result"
    }
   ],
   "source": [
    "patient =Patient(\"Gino\",15, \"45645\")\n",
    "patient.id_num =\"455354\"\n",
    "patient.id_num"
   ]
  },
  {
   "cell_type": "code",
   "execution_count": 62,
   "metadata": {},
   "outputs": [],
   "source": [
    "class House:\n",
    "    def __init__(self, price):\n",
    "        self._price= price\n",
    "        \n",
    "    # triger property\n",
    "    @property\n",
    "    # name of property need to be the same as the attribute to access\n",
    "    def price(self):\n",
    "        print(\"getter\")\n",
    "        return self._price\n",
    "    \n",
    "    # name of getter and setter function need to be the same\n",
    "    @price.setter\n",
    "    def price(self,new_price):\n",
    "        print(\"setter\")\n",
    "        if new_price >=0:\n",
    "            self._price= new_price\n",
    "        else:\n",
    "            print(\"enter a valid price\")"
   ]
  },
  {
   "cell_type": "code",
   "execution_count": 69,
   "metadata": {},
   "outputs": [
    {
     "name": "stdout",
     "output_type": "stream",
     "text": [
      "getter\n",
      "55000\n",
      "setter\n",
      "getter\n"
     ]
    },
    {
     "data": {
      "text/plain": [
       "60000"
      ]
     },
     "execution_count": 69,
     "metadata": {},
     "output_type": "execute_result"
    }
   ],
   "source": [
    "house= House(55000)\n",
    "print(house.price)\n",
    "house.price=60000\n",
    "house.price"
   ]
  },
  {
   "cell_type": "code",
   "execution_count": 70,
   "metadata": {},
   "outputs": [],
   "source": [
    "class BouncyBall:\n",
    "    def __init__(self, price, size, brand):\n",
    "        self._price = price \n",
    "        self._size = size \n",
    "        self._brand = brand\n",
    "        \n",
    "    @property\n",
    "    def price(self):\n",
    "        return self._price\n",
    "    @price.setter\n",
    "    def price(self, new_price):\n",
    "        if new_price >=0:\n",
    "            self._price=new_price\n",
    "        else:\n",
    "            print(\"enter valid new price\")\n",
    "        \n",
    "    @property\n",
    "    def size(self):\n",
    "        return self._size\n",
    "    @size.setter\n",
    "    def size(self, new_size):\n",
    "        if new_size>0:\n",
    "            self._size=new_size\n",
    "        else:\n",
    "            print(\"enter vaild size\")\n",
    "            \n",
    "    def get_brand(self):\n",
    "        return self._brand\n",
    "    def set_brand(sefl, new_brand):\n",
    "        if isinstance(new_brand,str):\n",
    "            self._brand=new_brand\n",
    "        else:\n",
    "            print(\"enter vaild brand\")\n",
    "    brand=property(get_brand,set_brand)"
   ]
  },
  {
   "cell_type": "code",
   "execution_count": 3,
   "metadata": {},
   "outputs": [],
   "source": [
    "class Calculator:\n",
    "    def __init__(self, model, year, serial_num):\n",
    "        self.model=model\n",
    "        self.year= year\n",
    "        self._serial_num=serial_num\n",
    "    def add(self,a, b):\n",
    "        return a+b\n",
    "    def subtract(self, a, b):\n",
    "        if a>=b:\n",
    "            return a-b\n",
    "        else:\n",
    "            raise ValueError(\"a is smaller than b\")\n",
    "    def multiply(self, a, b):\n",
    "        return a*b\n",
    "    def divide(self, a, b):\n",
    "        if b != 0:\n",
    "            return a/b\n",
    "        else:\n",
    "            raise ValueError(\"Denominator is 0\")             "
   ]
  },
  {
   "cell_type": "code",
   "execution_count": 6,
   "metadata": {
    "scrolled": true
   },
   "outputs": [
    {
     "ename": "ValueError",
     "evalue": "a is smaller than b",
     "output_type": "error",
     "traceback": [
      "\u001b[1;31m---------------------------------------------------------------------------\u001b[0m",
      "\u001b[1;31mValueError\u001b[0m                                Traceback (most recent call last)",
      "\u001b[1;32m<ipython-input-6-fa963a9a0771>\u001b[0m in \u001b[0;36m<module>\u001b[1;34m\u001b[0m\n\u001b[0;32m      1\u001b[0m \u001b[0mtest\u001b[0m\u001b[1;33m=\u001b[0m \u001b[0mCalculator\u001b[0m\u001b[1;33m(\u001b[0m\u001b[1;34m'a'\u001b[0m\u001b[1;33m,\u001b[0m\u001b[1;34m'b'\u001b[0m\u001b[1;33m,\u001b[0m\u001b[1;34m'c'\u001b[0m\u001b[1;33m)\u001b[0m\u001b[1;33m\u001b[0m\u001b[1;33m\u001b[0m\u001b[0m\n\u001b[0;32m      2\u001b[0m \u001b[0mtest\u001b[0m\u001b[1;33m.\u001b[0m\u001b[0madd\u001b[0m\u001b[1;33m(\u001b[0m\u001b[1;36m2\u001b[0m\u001b[1;33m,\u001b[0m\u001b[1;36m3\u001b[0m\u001b[1;33m)\u001b[0m\u001b[1;33m\u001b[0m\u001b[1;33m\u001b[0m\u001b[0m\n\u001b[1;32m----> 3\u001b[1;33m \u001b[0mtest\u001b[0m\u001b[1;33m.\u001b[0m\u001b[0msubtract\u001b[0m\u001b[1;33m(\u001b[0m\u001b[1;36m1\u001b[0m\u001b[1;33m,\u001b[0m\u001b[1;36m2\u001b[0m\u001b[1;33m)\u001b[0m\u001b[1;33m\u001b[0m\u001b[1;33m\u001b[0m\u001b[0m\n\u001b[0m",
      "\u001b[1;32m<ipython-input-3-b67dea8ce205>\u001b[0m in \u001b[0;36msubtract\u001b[1;34m(self, a, b)\u001b[0m\n\u001b[0;32m     10\u001b[0m             \u001b[1;32mreturn\u001b[0m \u001b[0ma\u001b[0m\u001b[1;33m-\u001b[0m\u001b[0mb\u001b[0m\u001b[1;33m\u001b[0m\u001b[1;33m\u001b[0m\u001b[0m\n\u001b[0;32m     11\u001b[0m         \u001b[1;32melse\u001b[0m\u001b[1;33m:\u001b[0m\u001b[1;33m\u001b[0m\u001b[1;33m\u001b[0m\u001b[0m\n\u001b[1;32m---> 12\u001b[1;33m             \u001b[1;32mraise\u001b[0m \u001b[0mValueError\u001b[0m\u001b[1;33m(\u001b[0m\u001b[1;34m\"a is smaller than b\"\u001b[0m\u001b[1;33m)\u001b[0m\u001b[1;33m\u001b[0m\u001b[1;33m\u001b[0m\u001b[0m\n\u001b[0m\u001b[0;32m     13\u001b[0m     \u001b[1;32mdef\u001b[0m \u001b[0mmultiply\u001b[0m\u001b[1;33m(\u001b[0m\u001b[0mself\u001b[0m\u001b[1;33m,\u001b[0m \u001b[0ma\u001b[0m\u001b[1;33m,\u001b[0m \u001b[0mb\u001b[0m\u001b[1;33m)\u001b[0m\u001b[1;33m:\u001b[0m\u001b[1;33m\u001b[0m\u001b[1;33m\u001b[0m\u001b[0m\n\u001b[0;32m     14\u001b[0m         \u001b[1;32mreturn\u001b[0m \u001b[0ma\u001b[0m\u001b[1;33m*\u001b[0m\u001b[0mb\u001b[0m\u001b[1;33m\u001b[0m\u001b[1;33m\u001b[0m\u001b[0m\n",
      "\u001b[1;31mValueError\u001b[0m: a is smaller than b"
     ]
    }
   ],
   "source": [
    "test= Calculator('a','b','c')\n",
    "test.add(2,3)\n",
    "test.subtract(1,2)"
   ]
  },
  {
   "cell_type": "code",
   "execution_count": 7,
   "metadata": {},
   "outputs": [],
   "source": [
    "class Sprite:\n",
    "    def __init__(self, character, x, y):\n",
    "        self.character=character\n",
    "        self._x= x\n",
    "        self._y= y\n",
    "        \n",
    "    def move_forward(self, step=5, movement = \"vertical\"):\n",
    "        if movement == \"vertical\":\n",
    "            self._y += step\n",
    "        else:\n",
    "            self._x += step\n",
    "    \n",
    "    @property\n",
    "    def y (self):\n",
    "        return self._y\n",
    "    \n",
    "    @property\n",
    "    def x(self):\n",
    "        return self._x"
   ]
  },
  {
   "cell_type": "code",
   "execution_count": 10,
   "metadata": {},
   "outputs": [
    {
     "data": {
      "text/plain": [
       "85"
      ]
     },
     "execution_count": 10,
     "metadata": {},
     "output_type": "execute_result"
    }
   ],
   "source": [
    "my_sprite= Sprite(\"Luigi\",50,80)\n",
    "my_sprite.move_forward()\n",
    "my_sprite.y"
   ]
  },
  {
   "cell_type": "code",
   "execution_count": 15,
   "metadata": {},
   "outputs": [],
   "source": [
    "class CashRegister:\n",
    "    tax= .05\n",
    "    def __init__(self, cashier, serial):\n",
    "        self.cashier= cashier\n",
    "        self._serial= serial\n",
    "        \n",
    "    @property\n",
    "    def serial(self):\n",
    "        return self._serial\n",
    "    \n",
    "    def display_total(self, subtotal):\n",
    "        print(\"subtotal:\", subtotal)\n",
    "        print(\"tax:\",self._calculate_tax(subtotal))\n",
    "        print(\"total:\",self._calculate_total(subtotal))\n",
    "        \n",
    "    def _calculate_total(self, subtotal):\n",
    "        return subtotal+self._calculate_tax(subtotal)\n",
    "    def _calculate_tax(self, amount):\n",
    "        return amount *CashRegister.tax"
   ]
  },
  {
   "cell_type": "code",
   "execution_count": 16,
   "metadata": {
    "scrolled": true
   },
   "outputs": [
    {
     "name": "stdout",
     "output_type": "stream",
     "text": [
      "subtotal: 5022.5\n",
      "tax: 251.125\n",
      "total: 5273.625\n"
     ]
    }
   ],
   "source": [
    "register= CashRegister(\"Melanie\",\"3453513\")\n",
    "register.display_total(5022.5)"
   ]
  },
  {
   "cell_type": "markdown",
   "metadata": {},
   "source": [
    "# `Methods` Assignment 8: Music School student record"
   ]
  },
  {
   "cell_type": "code",
   "execution_count": 82,
   "metadata": {},
   "outputs": [],
   "source": [
    "# %load \"Mini+Project+-+Add+Methods.py\"\n",
    "class MusicSchool:\n",
    "    students = {\"Gino\":   [15, \"653-235-345\", [\"Piano\", \"Guitar\"]],\n",
    "                        \"Talina\": [28, \"555-765-452\", [\"Cello\"]],\n",
    "                        \"Eric\":   [12, \"583-356-223\", [\"Singing\"]]}\n",
    "\n",
    "    def __init__(self, working_hours, revenue):\n",
    "        self.working_hours = working_hours\n",
    "        self.revenue = revenue\n",
    "\n",
    "    # Add your methods below this line\n",
    "    def print_students_data(self,student= students):\n",
    "        for k, v in student.items():\n",
    "            print(\"Student: {} who is {} years old and is taking {}\".format(k, v[0], v[2]))\n",
    "    \n",
    "    def print_student(self, name):\n",
    "        one_student= dict({name:self.students[name]})\n",
    "        self.print_students_data(one_student)\n",
    "        \n",
    "    def add_student(self, new_name, data):\n",
    "        self.students[new_name] = data\n",
    "        # save the students' information to a .txt file\n",
    "        f = open(\"dict.txt\",\"w\")\n",
    "        f.write( str(self.students) )\n",
    "        f.close()"
   ]
  },
  {
   "cell_type": "code",
   "execution_count": 84,
   "metadata": {
    "scrolled": true
   },
   "outputs": [
    {
     "name": "stdout",
     "output_type": "stream",
     "text": [
      "Student: Gino who is 15 years old and is taking ['Piano', 'Guitar']\n",
      "Student: Talina who is 28 years old and is taking ['Cello']\n",
      "Student: Eric who is 12 years old and is taking ['Singing']\n",
      "Student: Jack who is 60 years old and is taking ['Piano']\n",
      "Student: Gino who is 15 years old and is taking ['Piano', 'Guitar']\n"
     ]
    },
    {
     "data": {
      "text/plain": [
       "{'Gino': [15, '653-235-345', ['Piano', 'Guitar']],\n",
       " 'Talina': [28, '555-765-452', ['Cello']],\n",
       " 'Eric': [12, '583-356-223', ['Singing']],\n",
       " 'Jack': [60, '562-234-234', ['Piano']]}"
      ]
     },
     "execution_count": 84,
     "metadata": {},
     "output_type": "execute_result"
    }
   ],
   "source": [
    "# Create the instance\n",
    "test = MusicSchool(8,15000)\n",
    "\n",
    "\n",
    "# Call the methods\n",
    "test.print_students_data()\n",
    "test.print_student(\"Gino\")\n",
    "test.add_student(\"Jack\", [60, \"562-234-234\", [\"Piano\"]])\n",
    "test.students"
   ]
  }
 ],
 "metadata": {
  "kernelspec": {
   "display_name": "Python 3",
   "language": "python",
   "name": "python3"
  },
  "language_info": {
   "codemirror_mode": {
    "name": "ipython",
    "version": 3
   },
   "file_extension": ".py",
   "mimetype": "text/x-python",
   "name": "python",
   "nbconvert_exporter": "python",
   "pygments_lexer": "ipython3",
   "version": "3.7.7"
  }
 },
 "nbformat": 4,
 "nbformat_minor": 2
}
