{
 "cells": [
  {
   "cell_type": "code",
   "execution_count": 9,
   "id": "catholic-capitol",
   "metadata": {},
   "outputs": [],
   "source": [
    "class Card:\n",
    "    def __init__(self, suit, value):\n",
    "        self._suit= suit\n",
    "        self._value= value\n",
    "        \n",
    "    @property\n",
    "    def suit(self):\n",
    "        return self._suit\n",
    "    \n",
    "    @property\n",
    "    def value(self):\n",
    "        return self._value\n",
    "    \n",
    "    def show(self):\n",
    "        print(\"{} of {}\".format(self._value,self._suit))"
   ]
  },
  {
   "cell_type": "code",
   "execution_count": 10,
   "id": "welcome-prior",
   "metadata": {},
   "outputs": [],
   "source": [
    "import random\n",
    "class Deck:\n",
    "    suits = [\"Spades\", \"Clubs\", \"Diamonds\", \"Hearts\"]\n",
    "    \n",
    "    def __init__(self):\n",
    "        self._cards =[]\n",
    "        self.build()\n",
    "        \n",
    "    def build(self):\n",
    "        for suit in Deck.suits:\n",
    "            for value in range(1,12):\n",
    "                self._cards.append(Card(suit, value))\n",
    "    \n",
    "    def show(self):\n",
    "        for card in self._cards:\n",
    "            card.show()\n",
    "            \n",
    "    def shuffle(self):\n",
    "        random.shuffle(self._cards)\n",
    "        \n",
    "    def draw(self):\n",
    "        # check if the list self._cards is empty\n",
    "        if self._cards:\n",
    "            return self._cards.pop()"
   ]
  },
  {
   "cell_type": "code",
   "execution_count": 11,
   "id": "talented-determination",
   "metadata": {},
   "outputs": [],
   "source": [
    "class Player:\n",
    "    def __init__(self, name, is_dealer= False):\n",
    "        self._name = name\n",
    "        self._hand = []\n",
    "        self._is_dealer = is_dealer\n",
    "        \n",
    "    @property\n",
    "    def name(self):\n",
    "        return self._name\n",
    "    @property\n",
    "    def is_dealer(self):\n",
    "        return self._is_dealer\n",
    "    \n",
    "    def draw(self, deck):\n",
    "        self._hand.append(deck.draw())\n",
    "        return self\n",
    "    \n",
    "    def show_hand(self, reveal_card=False):\n",
    "        if not self._is_dealer:\n",
    "            for card in self._hand:\n",
    "                card.show()\n",
    "        else:\n",
    "            for i in range(len(self._hand)-1):\n",
    "                self._hand[i].show()   \n",
    "            if reveal_card:\n",
    "                self._hand[-1].show()\n",
    "            else:\n",
    "                print(\"X\")\n",
    "                \n",
    "    def discard(self):\n",
    "        return self._hand.pop()\n",
    "    \n",
    "    def get_hand_value(self):\n",
    "        value=0\n",
    "        for card in self._hand:\n",
    "            value += card.value\n",
    "        return value"
   ]
  },
  {
   "cell_type": "code",
   "execution_count": 12,
   "id": "eastern-senegal",
   "metadata": {},
   "outputs": [],
   "source": [
    "class CardGame:\n",
    "    INSTRUCTIONS = \"\"\"\\n | Welcome to our version of the Blackjack Game |\n",
    "=================================================================================\n",
    "The goal is to get as close to 21 as possible, without going over 21. \n",
    "Each card has a value and a suit. The values are added for the final result.\n",
    "\n",
    "The game starts by dealing two cards to the player (you) and to the dealer.            \n",
    "You are playing against the dealer. On each turn, you must choose if you\n",
    "would like to take another card or stand to stop the game and see if you won.\n",
    "\n",
    "The game ends if the total value of the player's hand goes over 21,\n",
    "and if the total value of the hand is below 21, the game continues\n",
    "until the player chooses to stand.\n",
    "\n",
    "When the game ends or when the player chooses to stand,\n",
    "the total value of each hand is calculated.  \n",
    "The value that is closest to 21 without going over it wins the game.\n",
    "If the total value is over 21, the player or dealer automatically lose the game.\n",
    "=================================================================================\n",
    "\"\"\"\n",
    "    def __init__(self, deck, player, dealer):\n",
    "        self.deck = deck\n",
    "        self.player = player\n",
    "        self.dealer = dealer\n",
    "        self.start_game()\n",
    "        \n",
    "    def start_game(self):\n",
    "        print(CardGame.INSTRUCTIONS)\n",
    "        turn = 1\n",
    "        # shuffle the deck\n",
    "        self.deck.shuffle()\n",
    "        # mothods chaining, draw 2 cards\n",
    "        self.player.draw(self.deck).draw(self.deck)\n",
    "        self.dealer.draw(self.deck).draw(self.deck)\n",
    "        \n",
    "        while True:\n",
    "            print(f\"== Trun # {turn} ==\")\n",
    "            print(\"\\nThe Dealer's head is:\")\n",
    "            self.dealer.show_hand()\n",
    "            print(\"\\nYour hand is:\")\n",
    "            self.player.show_hand()\n",
    "            \n",
    "            if self.player.get_hand_value() > 21:\n",
    "                print(\"\\ntotal value of your hand is over 21\")\n",
    "                break\n",
    "            elif self.player.get_hand_value() == 21:\n",
    "                break\n",
    "                \n",
    "            choice = self.ask_choice()\n",
    "            turn += 1\n",
    "            \n",
    "            if choice == 1:\n",
    "                self.player.draw(self.deck)\n",
    "            else:\n",
    "                break\n",
    "            \n",
    "        player_hand = self.player.get_hand_value()\n",
    "        print(\"\\nvalue = your hand:\", player_hand)\n",
    "        \n",
    "        dealer_hand = self.dealer.get_hand_value()\n",
    "        print(\"\\nvalue = dealer's hand\", dealer_hand)\n",
    "        \n",
    "        print(\"\\nthe dealer's hand was:\")\n",
    "        self.dealer.show_hand(True)\n",
    "        \n",
    "        if player_hand > 21:\n",
    "            print(\"you lose\")\n",
    "        elif dealer_hand >21 or player_hand ==21 or player_hand > dealer_hand:\n",
    "            print(\"you win\")\n",
    "        elif player_hand < dealer_hand:\n",
    "            print(\"you lose\")\n",
    "        else:\n",
    "            print(\"tie\")\n",
    "            \n",
    "    def ask_choice(self):\n",
    "        print(\"\\nwhat do you want to do?\")\n",
    "        print(\"1 - ask for another card\")\n",
    "        print(\"2 - stand\")\n",
    "        choice = int(input(\"enter your choice (1 or 2) below: \\n\"))\n",
    "        \n",
    "        if choice ==1 or choice == 2:\n",
    "            return choice\n",
    "        else:\n",
    "            print(\"not valid value. i will assume that you chose 2\")\n",
    "            return 2"
   ]
  },
  {
   "cell_type": "markdown",
   "id": "caroline-cardiff",
   "metadata": {},
   "source": [
    "###### implement the game"
   ]
  },
  {
   "cell_type": "code",
   "execution_count": 13,
   "id": "biblical-occasion",
   "metadata": {},
   "outputs": [
    {
     "name": "stdout",
     "output_type": "stream",
     "text": [
      "\n",
      " | Welcome to our version of the Blackjack Game |\n",
      "=================================================================================\n",
      "The goal is to get as close to 21 as possible, without going over 21. \n",
      "Each card has a value and a suit. The values are added for the final result.\n",
      "\n",
      "The game starts by dealing two cards to the player (you) and to the dealer.            \n",
      "You are playing against the dealer. On each turn, you must choose if you\n",
      "would like to take another card or stand to stop the game and see if you won.\n",
      "\n",
      "The game ends if the total value of the player's hand goes over 21,\n",
      "and if the total value of the hand is below 21, the game continues\n",
      "until the player chooses to stand.\n",
      "\n",
      "When the game ends or when the player chooses to stand,\n",
      "the total value of each hand is calculated.  \n",
      "The value that is closest to 21 without going over it wins the game.\n",
      "If the total value is over 21, the player or dealer automatically lose the game.\n",
      "=================================================================================\n",
      "\n",
      "== Trun # 1 ==\n",
      "\n",
      "The Dealer's head is:\n",
      "10 of Hearts\n",
      "X\n",
      "\n",
      "Your hand is:\n",
      "11 of Clubs\n",
      "8 of Hearts\n",
      "\n",
      "what do you want to do?\n",
      "1 - ask for another card\n",
      "2 - stand\n",
      "enter your choice (1 or 2) below: \n",
      "2\n",
      "\n",
      "value = your hand: 19\n",
      "\n",
      "value = dealer's hand 14\n",
      "\n",
      "the dealer's hand was:\n",
      "10 of Hearts\n",
      "4 of Hearts\n",
      "you win\n"
     ]
    }
   ],
   "source": [
    "deck = Deck()\n",
    "you = Player(\"Fan\")\n",
    "dealer = Player(\"Dealer\", True)\n",
    "\n",
    "game = CardGame(deck, you, dealer)"
   ]
  },
  {
   "cell_type": "markdown",
   "id": "stupid-evolution",
   "metadata": {},
   "source": [
    "comparison of getter method"
   ]
  },
  {
   "cell_type": "code",
   "execution_count": 14,
   "id": "immune-speaker",
   "metadata": {},
   "outputs": [
    {
     "data": {
      "text/plain": [
       "'spades'"
      ]
     },
     "execution_count": 14,
     "metadata": {},
     "output_type": "execute_result"
    }
   ],
   "source": [
    "cards= Card(\"spades\",1)\n",
    "cards.suit"
   ]
  },
  {
   "cell_type": "code",
   "execution_count": 15,
   "id": "serial-spanish",
   "metadata": {},
   "outputs": [
    {
     "data": {
      "text/plain": [
       "'spades'"
      ]
     },
     "execution_count": 15,
     "metadata": {},
     "output_type": "execute_result"
    }
   ],
   "source": [
    "class Card:\n",
    "    def __init__(self, suit, value):\n",
    "        self._suit= suit\n",
    "        self._value= value\n",
    "    @property\n",
    "    def show(self):\n",
    "        return self.Card\n",
    "\n",
    "cards=Card(\"spades\",1)\n",
    "cards._suit"
   ]
  },
  {
   "cell_type": "code",
   "execution_count": 16,
   "id": "fewer-evaluation",
   "metadata": {},
   "outputs": [
    {
     "data": {
      "text/plain": [
       "['Clubs', 'Hearts', 'Spades', 'Diamonds']"
      ]
     },
     "execution_count": 16,
     "metadata": {},
     "output_type": "execute_result"
    }
   ],
   "source": [
    "suits = [\"Spades\", \"Clubs\", \"Diamonds\", \"Hearts\"]\n",
    "random.shuffle(suits)\n",
    "suits"
   ]
  }
 ],
 "metadata": {
  "kernelspec": {
   "display_name": "Python 3",
   "language": "python",
   "name": "python3"
  },
  "language_info": {
   "codemirror_mode": {
    "name": "ipython",
    "version": 3
   },
   "file_extension": ".py",
   "mimetype": "text/x-python",
   "name": "python",
   "nbconvert_exporter": "python",
   "pygments_lexer": "ipython3",
   "version": "3.7.7"
  }
 },
 "nbformat": 4,
 "nbformat_minor": 5
}
