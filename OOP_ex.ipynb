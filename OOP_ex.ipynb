{
 "cells": [
  {
   "cell_type": "code",
   "execution_count": 77,
   "metadata": {},
   "outputs": [],
   "source": [
    "%config Completer.use_jedi = False"
   ]
  },
  {
   "cell_type": "markdown",
   "metadata": {},
   "source": [
    "# `Section 4: Instances and Instance Attributes`"
   ]
  },
  {
   "cell_type": "code",
   "execution_count": 1,
   "metadata": {},
   "outputs": [],
   "source": [
    "class Clients:\n",
    "    code =1\n",
    "    def __init__(self, name, age, code, passport_num):\n",
    "        self.name= name\n",
    "        self.age= age\n",
    "        self.code +=1\n",
    "        self.passport_num = passport_num"
   ]
  },
  {
   "cell_type": "code",
   "execution_count": 2,
   "metadata": {},
   "outputs": [],
   "source": [
    "class Rectangle:\n",
    "    def __init__(self, length, width , color):\n",
    "        self.length = length\n",
    "        self.width= width\n",
    "        self.color= color"
   ]
  },
  {
   "cell_type": "code",
   "execution_count": 7,
   "metadata": {},
   "outputs": [
    {
     "data": {
      "text/plain": [
       "5"
      ]
     },
     "execution_count": 7,
     "metadata": {},
     "output_type": "execute_result"
    }
   ],
   "source": [
    "my_rectangle = Rectangle(5,4,\"Blue\")\n",
    "my_rectangle.length"
   ]
  },
  {
   "cell_type": "code",
   "execution_count": 13,
   "metadata": {},
   "outputs": [],
   "source": [
    "class Circle:\n",
    "    def __init__(self, radius):\n",
    "        self.radius= radius\n",
    "my_circle= Circle(8)"
   ]
  },
  {
   "cell_type": "code",
   "execution_count": 15,
   "metadata": {},
   "outputs": [
    {
     "data": {
      "text/plain": [
       "2"
      ]
     },
     "execution_count": 15,
     "metadata": {},
     "output_type": "execute_result"
    }
   ],
   "source": [
    "my_circle.radius=2\n",
    "my_circle.radius"
   ]
  },
  {
   "cell_type": "code",
   "execution_count": 18,
   "metadata": {},
   "outputs": [],
   "source": [
    "class Bacterium:\n",
    "    # Complete the class\n",
    "    # Create 3 instances\n",
    "    def __init__(self, x,y, classification, shape, life_counter=\"antibiotic\"):\n",
    "        self.x=x\n",
    "        self.y=y\n",
    "        self.life_counter=life_counter\n",
    "        self.classification=classification\n",
    "        self.shape=sha"
   ]
  },
  {
   "cell_type": "markdown",
   "metadata": {},
   "source": [
    "###### Assignment 4: Mini Project | Bakery: Fix the Classes"
   ]
  },
  {
   "cell_type": "code",
   "execution_count": 22,
   "metadata": {},
   "outputs": [],
   "source": [
    "# %load \"Mini+Project+-+Bakery+System+-+Fix+the+Bugs.py\"\n",
    "class Donut:\n",
    "        def __ini__(self, flavor, toppings, filling, size):\n",
    "                self.flavor = flavor\n",
    "                self.toppings = toppings\n",
    "                self.filling = filling\n",
    "                self.size = self.size\n",
    "\n",
    "class Customer:\n",
    "    def __init__(self, name, age, address, favorite_dessert):\n",
    "        self.name = name\n",
    "        self.age = age\n",
    "        self.address = address\n",
    "        self.favorite_dessert = self.favorite_dessert\n",
    "\n",
    "class Cake:\n",
    "    def __init__(self, flavor, price, quality):\n",
    "        self.flavor = flavor\n",
    "        self.price = price\n",
    "        self.quality = quality\n"
   ]
  },
  {
   "cell_type": "markdown",
   "metadata": {},
   "source": [
    "# `Section 5: Class Attributes`"
   ]
  },
  {
   "cell_type": "code",
   "execution_count": 25,
   "metadata": {},
   "outputs": [],
   "source": [
    "class Spider:\n",
    "    # class attribute\n",
    "    num_legs= 8\n",
    "    def __init__(self, code, species, weight, size):\n",
    "        self.code=code\n",
    "        slef.species=species\n",
    "        self.weight=weight\n",
    "        self.size= size"
   ]
  },
  {
   "cell_type": "code",
   "execution_count": 26,
   "metadata": {
    "scrolled": true
   },
   "outputs": [
    {
     "data": {
      "text/plain": [
       "8"
      ]
     },
     "execution_count": 26,
     "metadata": {},
     "output_type": "execute_result"
    }
   ],
   "source": [
    "Spider.num_legs"
   ]
  },
  {
   "cell_type": "code",
   "execution_count": 27,
   "metadata": {},
   "outputs": [],
   "source": [
    "class Enemy:\n",
    "    speed= 8\n",
    "    def __init__(self, x, y, difficulty):\n",
    "        self.x=x\n",
    "        self.y=y\n",
    "        self.difficulty=difficulty"
   ]
  },
  {
   "cell_type": "code",
   "execution_count": 37,
   "metadata": {
    "scrolled": true
   },
   "outputs": [
    {
     "data": {
      "text/plain": [
       "15"
      ]
     },
     "execution_count": 37,
     "metadata": {},
     "output_type": "execute_result"
    }
   ],
   "source": [
    "Enemy.speed=15\n",
    "Enemy.speed"
   ]
  },
  {
   "cell_type": "markdown",
   "metadata": {},
   "source": [
    "###### Assignment 5: employee and class attributes"
   ]
  },
  {
   "cell_type": "code",
   "execution_count": 39,
   "metadata": {
    "scrolled": false
   },
   "outputs": [
    {
     "name": "stdout",
     "output_type": "stream",
     "text": [
      "\n",
      "========= Welcome to our Payroll System =========\n",
      "\n",
      "Jack's salary is: $9333.33\n",
      "Isabel's salary is: $9333.33\n",
      "Nora's salary is: $4466.67\n",
      "\n",
      "The total payroll this month will be: $ 23133.33\n"
     ]
    }
   ],
   "source": [
    "# %load \"Mini+Project+-+Complete+the+Payroll+System.py\"\n",
    "# Classes ==================================================================\n",
    "\n",
    "class Programmer:\n",
    "    \n",
    "    # Add the class attributes\n",
    "    salary = 100000\n",
    "    monthly_bonus = 1000\n",
    "    def __init__(self, name, age, address, phone, programming_languages):\n",
    "        self.name = name\n",
    "        self.age = age\n",
    "        self.address = address\n",
    "        self.phone = phone\n",
    "        self.programming_languages = programming_languages\n",
    "\n",
    "class Assistant:\n",
    "    \n",
    "    # Add the class attributes\n",
    "    salary = 50000\n",
    "    monthly_bonus = 300\n",
    "    def __init__(self, name, age, address, phone, bilingual):\n",
    "        self.name = name\n",
    "        self.age = age\n",
    "        self.address = address\n",
    "        self.phone = phone\n",
    "        self.bilingual = bilingual\n",
    "\n",
    "# Program ==================================================================\n",
    "\n",
    "# Function that prints the monthly salary of each worker\n",
    "# and the total amount that the startup owner has to pay per month\n",
    "def calculate_payroll(employees):\n",
    "\n",
    "    total = 0\n",
    "\n",
    "    print(\"\\n========= Welcome to our Payroll System =========\\n\")\n",
    "\n",
    "    # Iterate over the list of instances to calculate\n",
    "    # and display the monthly salary of each employee,\n",
    "    # and add the monthly salary to the total for this month\n",
    "    for employee in employees:\n",
    "        salary = round(employee.salary / 12, 2) + employee.monthly_bonus\n",
    "        print(employee.name.capitalize() + \"'s salary is: $\" + str(salary))\n",
    "        total += salary\n",
    "\n",
    "    # Display the total \n",
    "    print(\"\\nThe total payroll this month will be: $\", total)\n",
    "\n",
    "# Instances (employees)\n",
    "jack = Programmer(\"Jack\", 45, \"5th Avenue\", \"555-563-345\", [\"Python\", \"Java\"])\n",
    "isabel = Programmer(\"Isabel\", 25, \"6th Avenue\", \"234-245-853\", [\"JavaScript\"])\n",
    "nora = Assistant(\"Nora\", 23, \"7th Avenue\", \"562-577-333\", True)\n",
    "\n",
    "# List of instances\n",
    "employees = [jack, isabel, nora]\n",
    "\n",
    "# Function call - Passing the list of instances as argument\n",
    "calculate_payroll(employees)\n"
   ]
  },
  {
   "cell_type": "markdown",
   "metadata": {},
   "source": [
    "# `Section 6: Encapsulation and Abstraction`"
   ]
  },
  {
   "cell_type": "code",
   "execution_count": 44,
   "metadata": {},
   "outputs": [],
   "source": [
    "class Player:\n",
    "    def __init__(self, username, rank, time_palyed, id_num):\n",
    "        self.username=username\n",
    "        # \"_\", indicate private attribute, conventional\n",
    "        self._rank=rank\n",
    "        self._time_played= time_palyed\n",
    "        # \"__\", another way to indicate private attribute\n",
    "        self.__id_num= id_num"
   ]
  },
  {
   "cell_type": "code",
   "execution_count": 46,
   "metadata": {
    "scrolled": true
   },
   "outputs": [
    {
     "name": "stdout",
     "output_type": "stream",
     "text": [
      "150\n"
     ]
    },
    {
     "data": {
      "text/plain": [
       "'4545435'"
      ]
     },
     "execution_count": 46,
     "metadata": {},
     "output_type": "execute_result"
    }
   ],
   "source": [
    "player=Player(\"mario56\", 150, 1000, \"4545435\")\n",
    "print(player._rank)\n",
    "player._Player__id_num"
   ]
  },
  {
   "cell_type": "markdown",
   "metadata": {},
   "source": [
    "# `Section 7: Properties, Getters, and Setters`"
   ]
  },
  {
   "cell_type": "code",
   "execution_count": 59,
   "metadata": {},
   "outputs": [],
   "source": [
    "class Patient:\n",
    "    def __init__(self, name, age, id_num, num_children=0):\n",
    "        self.name=name\n",
    "        self.age=age\n",
    "        self._id_num=id_num\n",
    "        self._num_children=num_children\n",
    "        \n",
    "    def get_id_num(self):\n",
    "        print(\"getter\")\n",
    "        return self._id_num\n",
    "    def set_id_num(self, new_id):\n",
    "        print(\"setter\")\n",
    "        if isinstance(new_id, str):\n",
    "            self._id_num= new_id\n",
    "        else:\n",
    "            print(\"Please enter a valid ID\")\n",
    "    \n",
    "    id_num=property(get_id_num,set_id_num)\n",
    "    \n",
    "    def set_num_childern(self):\n",
    "        return self.num_children\n",
    "    def set_num_children(self, num_children):\n",
    "        if isinstance(num_children, int) and 0<num_children<70:\n",
    "            self._num_children=num_children\n",
    "        else:\n",
    "            print(\"please enter a valid # of children\")\n",
    "            \n",
    "    num_children= property(set_num_childern, set_num_children)"
   ]
  },
  {
   "cell_type": "code",
   "execution_count": 60,
   "metadata": {
    "scrolled": true
   },
   "outputs": [
    {
     "name": "stdout",
     "output_type": "stream",
     "text": [
      "setter\n",
      "getter\n"
     ]
    },
    {
     "data": {
      "text/plain": [
       "'455354'"
      ]
     },
     "execution_count": 60,
     "metadata": {},
     "output_type": "execute_result"
    }
   ],
   "source": [
    "patient =Patient(\"Gino\",15, \"45645\")\n",
    "patient.id_num =\"455354\"\n",
    "patient.id_num"
   ]
  },
  {
   "cell_type": "code",
   "execution_count": 62,
   "metadata": {},
   "outputs": [],
   "source": [
    "class House:\n",
    "    def __init__(self, price):\n",
    "        self._price= price\n",
    "        \n",
    "    # triger property\n",
    "    @property\n",
    "    # name of property need to be the same as the attribute to access\n",
    "    def price(self):\n",
    "        print(\"getter\")\n",
    "        return self._price\n",
    "    \n",
    "    # name of getter and setter function need to be the same\n",
    "    @price.setter\n",
    "    def price(self,new_price):\n",
    "        print(\"setter\")\n",
    "        if new_price >=0:\n",
    "            self._price= new_price\n",
    "        else:\n",
    "            print(\"enter a valid price\")"
   ]
  },
  {
   "cell_type": "code",
   "execution_count": 69,
   "metadata": {
    "scrolled": true
   },
   "outputs": [
    {
     "name": "stdout",
     "output_type": "stream",
     "text": [
      "getter\n",
      "55000\n",
      "setter\n",
      "getter\n"
     ]
    },
    {
     "data": {
      "text/plain": [
       "60000"
      ]
     },
     "execution_count": 69,
     "metadata": {},
     "output_type": "execute_result"
    }
   ],
   "source": [
    "house= House(55000)\n",
    "print(house.price)\n",
    "house.price=60000\n",
    "house.price"
   ]
  },
  {
   "cell_type": "markdown",
   "metadata": {},
   "source": [
    "###### Assignment 7: refacotor an existing project with @property"
   ]
  },
  {
   "cell_type": "code",
   "execution_count": 4,
   "metadata": {},
   "outputs": [],
   "source": [
    "class BouncyBall:\n",
    "    def __init__(self, price, size, brand):\n",
    "        self._price = price \n",
    "        self._size = size \n",
    "        self._brand = brand\n",
    "        \n",
    "    @property\n",
    "    def price(self):\n",
    "        return self._price\n",
    "    @price.setter\n",
    "    def price(self, new_price):\n",
    "        if new_price >=0:\n",
    "            self._price=new_price\n",
    "        else:\n",
    "            print(\"enter valid new price\")\n",
    "        \n",
    "    @property\n",
    "    def size(self):\n",
    "        return self._size\n",
    "    @size.setter\n",
    "    def size(self, new_size):\n",
    "        if new_size>0:\n",
    "            self._size=new_size\n",
    "        else:\n",
    "            print(\"enter vaild size\")\n",
    "            \n",
    "    def get_brand(self):\n",
    "        return self._brand\n",
    "    def set_brand(sefl, new_brand):\n",
    "        if isinstance(new_brand,str):\n",
    "            self._brand=new_brand\n",
    "        else:\n",
    "            print(\"enter vaild brand\")\n",
    "    brand=property(get_brand,set_brand)"
   ]
  },
  {
   "cell_type": "markdown",
   "metadata": {},
   "source": [
    "# `Section 8: Methods` "
   ]
  },
  {
   "cell_type": "code",
   "execution_count": 3,
   "metadata": {},
   "outputs": [],
   "source": [
    "class Calculator:\n",
    "    def __init__(self, model, year, serial_num):\n",
    "        self.model=model\n",
    "        self.year= year\n",
    "        self._serial_num=serial_num\n",
    "    def add(self,a, b):\n",
    "        return a+b\n",
    "    def subtract(self, a, b):\n",
    "        if a>=b:\n",
    "            return a-b\n",
    "        else:\n",
    "            raise ValueError(\"a is smaller than b\")\n",
    "    def multiply(self, a, b):\n",
    "        return a*b\n",
    "    def divide(self, a, b):\n",
    "        if b != 0:\n",
    "            return a/b\n",
    "        else:\n",
    "            raise ValueError(\"Denominator is 0\")             "
   ]
  },
  {
   "cell_type": "code",
   "execution_count": 6,
   "metadata": {
    "scrolled": true
   },
   "outputs": [
    {
     "ename": "ValueError",
     "evalue": "a is smaller than b",
     "output_type": "error",
     "traceback": [
      "\u001b[1;31m---------------------------------------------------------------------------\u001b[0m",
      "\u001b[1;31mValueError\u001b[0m                                Traceback (most recent call last)",
      "\u001b[1;32m<ipython-input-6-fa963a9a0771>\u001b[0m in \u001b[0;36m<module>\u001b[1;34m\u001b[0m\n\u001b[0;32m      1\u001b[0m \u001b[0mtest\u001b[0m\u001b[1;33m=\u001b[0m \u001b[0mCalculator\u001b[0m\u001b[1;33m(\u001b[0m\u001b[1;34m'a'\u001b[0m\u001b[1;33m,\u001b[0m\u001b[1;34m'b'\u001b[0m\u001b[1;33m,\u001b[0m\u001b[1;34m'c'\u001b[0m\u001b[1;33m)\u001b[0m\u001b[1;33m\u001b[0m\u001b[1;33m\u001b[0m\u001b[0m\n\u001b[0;32m      2\u001b[0m \u001b[0mtest\u001b[0m\u001b[1;33m.\u001b[0m\u001b[0madd\u001b[0m\u001b[1;33m(\u001b[0m\u001b[1;36m2\u001b[0m\u001b[1;33m,\u001b[0m\u001b[1;36m3\u001b[0m\u001b[1;33m)\u001b[0m\u001b[1;33m\u001b[0m\u001b[1;33m\u001b[0m\u001b[0m\n\u001b[1;32m----> 3\u001b[1;33m \u001b[0mtest\u001b[0m\u001b[1;33m.\u001b[0m\u001b[0msubtract\u001b[0m\u001b[1;33m(\u001b[0m\u001b[1;36m1\u001b[0m\u001b[1;33m,\u001b[0m\u001b[1;36m2\u001b[0m\u001b[1;33m)\u001b[0m\u001b[1;33m\u001b[0m\u001b[1;33m\u001b[0m\u001b[0m\n\u001b[0m",
      "\u001b[1;32m<ipython-input-3-b67dea8ce205>\u001b[0m in \u001b[0;36msubtract\u001b[1;34m(self, a, b)\u001b[0m\n\u001b[0;32m     10\u001b[0m             \u001b[1;32mreturn\u001b[0m \u001b[0ma\u001b[0m\u001b[1;33m-\u001b[0m\u001b[0mb\u001b[0m\u001b[1;33m\u001b[0m\u001b[1;33m\u001b[0m\u001b[0m\n\u001b[0;32m     11\u001b[0m         \u001b[1;32melse\u001b[0m\u001b[1;33m:\u001b[0m\u001b[1;33m\u001b[0m\u001b[1;33m\u001b[0m\u001b[0m\n\u001b[1;32m---> 12\u001b[1;33m             \u001b[1;32mraise\u001b[0m \u001b[0mValueError\u001b[0m\u001b[1;33m(\u001b[0m\u001b[1;34m\"a is smaller than b\"\u001b[0m\u001b[1;33m)\u001b[0m\u001b[1;33m\u001b[0m\u001b[1;33m\u001b[0m\u001b[0m\n\u001b[0m\u001b[0;32m     13\u001b[0m     \u001b[1;32mdef\u001b[0m \u001b[0mmultiply\u001b[0m\u001b[1;33m(\u001b[0m\u001b[0mself\u001b[0m\u001b[1;33m,\u001b[0m \u001b[0ma\u001b[0m\u001b[1;33m,\u001b[0m \u001b[0mb\u001b[0m\u001b[1;33m)\u001b[0m\u001b[1;33m:\u001b[0m\u001b[1;33m\u001b[0m\u001b[1;33m\u001b[0m\u001b[0m\n\u001b[0;32m     14\u001b[0m         \u001b[1;32mreturn\u001b[0m \u001b[0ma\u001b[0m\u001b[1;33m*\u001b[0m\u001b[0mb\u001b[0m\u001b[1;33m\u001b[0m\u001b[1;33m\u001b[0m\u001b[0m\n",
      "\u001b[1;31mValueError\u001b[0m: a is smaller than b"
     ]
    }
   ],
   "source": [
    "test= Calculator('a','b','c')\n",
    "test.add(2,3)\n",
    "test.subtract(1,2)"
   ]
  },
  {
   "cell_type": "code",
   "execution_count": 7,
   "metadata": {},
   "outputs": [],
   "source": [
    "class Sprite:\n",
    "    def __init__(self, character, x, y):\n",
    "        self.character=character\n",
    "        self._x= x\n",
    "        self._y= y\n",
    "        \n",
    "    def move_forward(self, step=5, movement = \"vertical\"):\n",
    "        if movement == \"vertical\":\n",
    "            self._y += step\n",
    "        else:\n",
    "            self._x += step\n",
    "    \n",
    "    @property\n",
    "    def y (self):\n",
    "        return self._y\n",
    "    \n",
    "    @property\n",
    "    def x(self):\n",
    "        return self._x"
   ]
  },
  {
   "cell_type": "code",
   "execution_count": 10,
   "metadata": {},
   "outputs": [
    {
     "data": {
      "text/plain": [
       "85"
      ]
     },
     "execution_count": 10,
     "metadata": {},
     "output_type": "execute_result"
    }
   ],
   "source": [
    "my_sprite= Sprite(\"Luigi\",50,80)\n",
    "my_sprite.move_forward()\n",
    "my_sprite.y"
   ]
  },
  {
   "cell_type": "code",
   "execution_count": 15,
   "metadata": {},
   "outputs": [],
   "source": [
    "class CashRegister:\n",
    "    tax= .05\n",
    "    def __init__(self, cashier, serial):\n",
    "        self.cashier= cashier\n",
    "        self._serial= serial\n",
    "        \n",
    "    @property\n",
    "    def serial(self):\n",
    "        return self._serial\n",
    "    \n",
    "    def display_total(self, subtotal):\n",
    "        print(\"subtotal:\", subtotal)\n",
    "        print(\"tax:\",self._calculate_tax(subtotal))\n",
    "        print(\"total:\",self._calculate_total(subtotal))\n",
    "        \n",
    "    def _calculate_total(self, subtotal):\n",
    "        return subtotal+self._calculate_tax(subtotal)\n",
    "    def _calculate_tax(self, amount):\n",
    "        return amount *CashRegister.tax"
   ]
  },
  {
   "cell_type": "code",
   "execution_count": 16,
   "metadata": {
    "scrolled": true
   },
   "outputs": [
    {
     "name": "stdout",
     "output_type": "stream",
     "text": [
      "subtotal: 5022.5\n",
      "tax: 251.125\n",
      "total: 5273.625\n"
     ]
    }
   ],
   "source": [
    "register= CashRegister(\"Melanie\",\"3453513\")\n",
    "register.display_total(5022.5)"
   ]
  },
  {
   "cell_type": "markdown",
   "metadata": {},
   "source": [
    "##### Assignment 8: Music School student record"
   ]
  },
  {
   "cell_type": "code",
   "execution_count": 82,
   "metadata": {},
   "outputs": [],
   "source": [
    "# %load \"Mini+Project+-+Add+Methods.py\"\n",
    "class MusicSchool:\n",
    "    students = {\"Gino\":   [15, \"653-235-345\", [\"Piano\", \"Guitar\"]],\n",
    "                        \"Talina\": [28, \"555-765-452\", [\"Cello\"]],\n",
    "                        \"Eric\":   [12, \"583-356-223\", [\"Singing\"]]}\n",
    "\n",
    "    def __init__(self, working_hours, revenue):\n",
    "        self.working_hours = working_hours\n",
    "        self.revenue = revenue\n",
    "\n",
    "    # Add your methods below this line\n",
    "    def print_students_data(self,student= students):\n",
    "        for k, v in student.items():\n",
    "            print(\"Student: {} who is {} years old and is taking {}\".format(k, v[0], v[2]))\n",
    "    \n",
    "    def print_student(self, name):\n",
    "        one_student= dict({name:self.students[name]})\n",
    "        self.print_students_data(one_student)\n",
    "        \n",
    "    def add_student(self, new_name, data):\n",
    "        self.students[new_name] = data\n",
    "        # save the students' information to a .txt file\n",
    "        f = open(\"dict.txt\",\"w\")\n",
    "        f.write( str(self.students) )\n",
    "        f.close()"
   ]
  },
  {
   "cell_type": "code",
   "execution_count": 84,
   "metadata": {
    "scrolled": false
   },
   "outputs": [
    {
     "name": "stdout",
     "output_type": "stream",
     "text": [
      "Student: Gino who is 15 years old and is taking ['Piano', 'Guitar']\n",
      "Student: Talina who is 28 years old and is taking ['Cello']\n",
      "Student: Eric who is 12 years old and is taking ['Singing']\n",
      "Student: Jack who is 60 years old and is taking ['Piano']\n",
      "Student: Gino who is 15 years old and is taking ['Piano', 'Guitar']\n"
     ]
    },
    {
     "data": {
      "text/plain": [
       "{'Gino': [15, '653-235-345', ['Piano', 'Guitar']],\n",
       " 'Talina': [28, '555-765-452', ['Cello']],\n",
       " 'Eric': [12, '583-356-223', ['Singing']],\n",
       " 'Jack': [60, '562-234-234', ['Piano']]}"
      ]
     },
     "execution_count": 84,
     "metadata": {},
     "output_type": "execute_result"
    }
   ],
   "source": [
    "# Create the instance\n",
    "test = MusicSchool(8,15000)\n",
    "\n",
    "\n",
    "# Call the methods\n",
    "test.print_students_data()\n",
    "test.print_student(\"Gino\")\n",
    "test.add_student(\"Jack\", [60, \"562-234-234\", [\"Piano\"]])\n",
    "test.students"
   ]
  },
  {
   "cell_type": "markdown",
   "metadata": {},
   "source": [
    "# `Section 9: Build a Tic-Tac-Toe Game`"
   ]
  },
  {
   "cell_type": "code",
   "execution_count": 172,
   "metadata": {},
   "outputs": [],
   "source": [
    "import random\n",
    "\n",
    "class Player:\n",
    "    def __init__(self, marker= \"X\", is_human= True):\n",
    "        self._marker =marker\n",
    "        self._is_human= is_human\n",
    "        \n",
    "    @property\n",
    "    def marker (self):\n",
    "        return self._marker\n",
    "    @property\n",
    "    def is_human(self):\n",
    "        return self._is_human\n",
    "    \n",
    "    def get_player_move(self):\n",
    "        if self._is_human:\n",
    "            return self.get_human_move()\n",
    "        else:\n",
    "            return self.get_pc_move()\n",
    "    def get_human_move(self):\n",
    "        move=input(\"player move (X): \")\n",
    "        return move\n",
    "    def get_pc_move(self):\n",
    "        row= random.choice([1,2,3])\n",
    "        col= random.choice(['A','B','C'])\n",
    "        move= str(row)+col\n",
    "        print(\"PC move (O): \",move)\n",
    "        return move\n",
    "    \n",
    "class Board:\n",
    "    EMPTY = 0\n",
    "    COLUMNS = {\"A\":0, \"B\":1, 'C':2}\n",
    "    ROWS = (1,2,3)\n",
    "    \n",
    "    def __init__(self, game_board= None):\n",
    "        if game_board:\n",
    "            self.game_board =  game_board\n",
    "        else:\n",
    "            self.game_board = [[0,0,0],\n",
    "                               [0,0,0],\n",
    "                               [0,0,0]]\n",
    "            \n",
    "    def print_board(self):\n",
    "        print(\"    A   B   C\")\n",
    "        for i , row in enumerate(self.game_board, 1):\n",
    "            print(i, end=\" | \")\n",
    "            for col in row:\n",
    "                if col != Board.EMPTY:\n",
    "                    print(col, end= \" | \")\n",
    "                else:\n",
    "                    print(\"  | \", end= \"\")          \n",
    "            print(\"\\n\",\"-\"*15)\n",
    "     \n",
    "    def submit_move(self, move, player):\n",
    "        if not self.is_move_valid (move):\n",
    "            print(\"Invalid input: please enter the row and col of your move (Example 1A)\")\n",
    "            return\n",
    "        else:\n",
    "            row_index= int(move[0])-1\n",
    "            col_index= Board.COLUMNS[move[1]]\n",
    "            \n",
    "            value= self.game_board[row_index][col_index]\n",
    "            \n",
    "            if value== Board.EMPTY:\n",
    "                self.game_board[row_index][col_index]= player.marker\n",
    "                \n",
    "            else:\n",
    "                print(\"this space is already taken\")\n",
    "    def is_move_valid(self, move):\n",
    "        return ((len(move)==2)\n",
    "                and (int(move[0]) in Board.ROWS)\n",
    "                and (move[1] in Board.COLUMNS))\n",
    "    \n",
    "    # check conditions of winning\n",
    "    def is_winner(self, player, row, col):\n",
    "        if self.check_row(row, player) or self.check_col(col, player) or self.check_diagoanl(player) or self.check_antidiagonal(player):\n",
    "            return True\n",
    "        else:\n",
    "            return False\n",
    "        \n",
    "    def check_row(self, row, player):\n",
    "        row_index = int(row)-1\n",
    "        board_row= self.game_board[row_index]\n",
    "        \n",
    "        if board_row.count(player.marker)==3:\n",
    "            return True\n",
    "        else:\n",
    "            return False\n",
    "        \n",
    "    def check_col(self, col, player):\n",
    "        col_index= Board.COLUMNS[col]\n",
    "        total_markers= 0\n",
    "        for i in range(3):\n",
    "            if self.game_board[i][col_index]==player.marker:\n",
    "                total_markers+=1\n",
    "        if total_markers==3:\n",
    "            return True\n",
    "        else:\n",
    "            return False\n",
    "        \n",
    "    def check_diagoanl(self, player):\n",
    "        total_markers = 0\n",
    "        for i in range(3):\n",
    "            if self.game_board[i][i]==player.marker:\n",
    "                total_markers +=1\n",
    "        if total_markers ==3:\n",
    "            return True\n",
    "        else:\n",
    "            return False\n",
    "    \n",
    "    def check_antidiagonal(self, player):\n",
    "        total_markers= 0\n",
    "        for i in range(3):\n",
    "            if self.game_board[i][2-i] == player.marker:\n",
    "                total_markers+=1\n",
    "        if total_markers ==3:\n",
    "            return True\n",
    "        else:\n",
    "            return False\n",
    "        \n",
    "    # check tie\n",
    "    def check_tie(self):\n",
    "        if [True if i.count(0) == 0 else False for i in self.game_board ]==[1,1,1]:\n",
    "            return True\n",
    "        else:\n",
    "            return False"
   ]
  },
  {
   "cell_type": "code",
   "execution_count": 171,
   "metadata": {
    "scrolled": true
   },
   "outputs": [
    {
     "name": "stdout",
     "output_type": "stream",
     "text": [
      "****************\n",
      " Tic-Tac-Toe!\n",
      "****************\n",
      "    A   B   C\n",
      "1 |   |   |   | \n",
      " ---------------\n",
      "2 |   |   |   | \n",
      " ---------------\n",
      "3 |   |   |   | \n",
      " ---------------\n",
      "player move (X): 2B\n",
      "    A   B   C\n",
      "1 |   |   |   | \n",
      " ---------------\n",
      "2 |   | X |   | \n",
      " ---------------\n",
      "3 |   |   |   | \n",
      " ---------------\n",
      "PC move (O):  2A\n",
      "    A   B   C\n",
      "1 |   |   |   | \n",
      " ---------------\n",
      "2 | O | X |   | \n",
      " ---------------\n",
      "3 |   |   |   | \n",
      " ---------------\n",
      "player move (X): \n",
      "Invalid input: please enter the row and col of your move (Example 1A)\n",
      "    A   B   C\n",
      "1 |   |   |   | \n",
      " ---------------\n",
      "2 | O | X |   | \n",
      " ---------------\n",
      "3 |   |   |   | \n",
      " ---------------\n",
      "PC move (O):  2A\n",
      "this space is already taken\n",
      "    A   B   C\n",
      "1 |   |   |   | \n",
      " ---------------\n",
      "2 | O | X |   | \n",
      " ---------------\n",
      "3 |   |   |   | \n",
      " ---------------\n",
      "player move (X): \n",
      "Invalid input: please enter the row and col of your move (Example 1A)\n",
      "    A   B   C\n",
      "1 |   |   |   | \n",
      " ---------------\n",
      "2 | O | X |   | \n",
      " ---------------\n",
      "3 |   |   |   | \n",
      " ---------------\n",
      "PC move (O):  2B\n",
      "this space is already taken\n",
      "    A   B   C\n",
      "1 |   |   |   | \n",
      " ---------------\n",
      "2 | O | X |   | \n",
      " ---------------\n",
      "3 |   |   |   | \n",
      " ---------------\n",
      "player move (X): \n",
      "Invalid input: please enter the row and col of your move (Example 1A)\n",
      "    A   B   C\n",
      "1 |   |   |   | \n",
      " ---------------\n",
      "2 | O | X |   | \n",
      " ---------------\n",
      "3 |   |   |   | \n",
      " ---------------\n",
      "PC move (O):  1C\n",
      "    A   B   C\n",
      "1 |   |   | O | \n",
      " ---------------\n",
      "2 | O | X |   | \n",
      " ---------------\n",
      "3 |   |   |   | \n",
      " ---------------\n",
      "player move (X): 2C\n",
      "    A   B   C\n",
      "1 |   |   | O | \n",
      " ---------------\n",
      "2 | O | X | X | \n",
      " ---------------\n",
      "3 |   |   |   | \n",
      " ---------------\n",
      "PC move (O):  3C\n",
      "    A   B   C\n",
      "1 |   |   | O | \n",
      " ---------------\n",
      "2 | O | X | X | \n",
      " ---------------\n",
      "3 |   |   | O | \n",
      " ---------------\n",
      "player move (X): 1A\n",
      "    A   B   C\n",
      "1 | X |   | O | \n",
      " ---------------\n",
      "2 | O | X | X | \n",
      " ---------------\n",
      "3 |   |   | O | \n",
      " ---------------\n",
      "PC move (O):  3C\n",
      "this space is already taken\n",
      "    A   B   C\n",
      "1 | X |   | O | \n",
      " ---------------\n",
      "2 | O | X | X | \n",
      " ---------------\n",
      "3 |   |   | O | \n",
      " ---------------\n",
      "player move (X): 3A\n",
      "    A   B   C\n",
      "1 | X |   | O | \n",
      " ---------------\n",
      "2 | O | X | X | \n",
      " ---------------\n",
      "3 | X |   | O | \n",
      " ---------------\n",
      "PC move (O):  1C\n",
      "this space is already taken\n",
      "    A   B   C\n",
      "1 | X |   | O | \n",
      " ---------------\n",
      "2 | O | X | X | \n",
      " ---------------\n",
      "3 | X |   | O | \n",
      " ---------------\n",
      "player move (X): 2B\n",
      "this space is already taken\n",
      "    A   B   C\n",
      "1 | X |   | O | \n",
      " ---------------\n",
      "2 | O | X | X | \n",
      " ---------------\n",
      "3 | X |   | O | \n",
      " ---------------\n",
      "PC move (O):  1C\n",
      "this space is already taken\n",
      "    A   B   C\n",
      "1 | X |   | O | \n",
      " ---------------\n",
      "2 | O | X | X | \n",
      " ---------------\n",
      "3 | X |   | O | \n",
      " ---------------\n",
      "player move (X): 1B\n",
      "    A   B   C\n",
      "1 | X | X | O | \n",
      " ---------------\n",
      "2 | O | X | X | \n",
      " ---------------\n",
      "3 | X |   | O | \n",
      " ---------------\n",
      "PC move (O):  3A\n",
      "this space is already taken\n",
      "    A   B   C\n",
      "1 | X | X | O | \n",
      " ---------------\n",
      "2 | O | X | X | \n",
      " ---------------\n",
      "3 | X |   | O | \n",
      " ---------------\n",
      "player move (X): \n",
      "Invalid input: please enter the row and col of your move (Example 1A)\n",
      "    A   B   C\n",
      "1 | X | X | O | \n",
      " ---------------\n",
      "2 | O | X | X | \n",
      " ---------------\n",
      "3 | X |   | O | \n",
      " ---------------\n",
      "PC move (O):  2B\n",
      "this space is already taken\n",
      "    A   B   C\n",
      "1 | X | X | O | \n",
      " ---------------\n",
      "2 | O | X | X | \n",
      " ---------------\n",
      "3 | X |   | O | \n",
      " ---------------\n",
      "player move (X): \n",
      "Invalid input: please enter the row and col of your move (Example 1A)\n",
      "    A   B   C\n",
      "1 | X | X | O | \n",
      " ---------------\n",
      "2 | O | X | X | \n",
      " ---------------\n",
      "3 | X |   | O | \n",
      " ---------------\n",
      "PC move (O):  1C\n",
      "this space is already taken\n",
      "    A   B   C\n",
      "1 | X | X | O | \n",
      " ---------------\n",
      "2 | O | X | X | \n",
      " ---------------\n",
      "3 | X |   | O | \n",
      " ---------------\n",
      "player move (X): \n",
      "Invalid input: please enter the row and col of your move (Example 1A)\n",
      "    A   B   C\n",
      "1 | X | X | O | \n",
      " ---------------\n",
      "2 | O | X | X | \n",
      " ---------------\n",
      "3 | X |   | O | \n",
      " ---------------\n",
      "PC move (O):  3C\n",
      "this space is already taken\n",
      "    A   B   C\n",
      "1 | X | X | O | \n",
      " ---------------\n",
      "2 | O | X | X | \n",
      " ---------------\n",
      "3 | X |   | O | \n",
      " ---------------\n",
      "player move (X): \n",
      "Invalid input: please enter the row and col of your move (Example 1A)\n",
      "    A   B   C\n",
      "1 | X | X | O | \n",
      " ---------------\n",
      "2 | O | X | X | \n",
      " ---------------\n",
      "3 | X |   | O | \n",
      " ---------------\n",
      "PC move (O):  3C\n",
      "this space is already taken\n",
      "    A   B   C\n",
      "1 | X | X | O | \n",
      " ---------------\n",
      "2 | O | X | X | \n",
      " ---------------\n",
      "3 | X |   | O | \n",
      " ---------------\n",
      "player move (X): \n",
      "Invalid input: please enter the row and col of your move (Example 1A)\n",
      "    A   B   C\n",
      "1 | X | X | O | \n",
      " ---------------\n",
      "2 | O | X | X | \n",
      " ---------------\n",
      "3 | X |   | O | \n",
      " ---------------\n",
      "PC move (O):  1A\n",
      "this space is already taken\n",
      "    A   B   C\n",
      "1 | X | X | O | \n",
      " ---------------\n",
      "2 | O | X | X | \n",
      " ---------------\n",
      "3 | X |   | O | \n",
      " ---------------\n",
      "player move (X): \n",
      "Invalid input: please enter the row and col of your move (Example 1A)\n",
      "    A   B   C\n",
      "1 | X | X | O | \n",
      " ---------------\n",
      "2 | O | X | X | \n",
      " ---------------\n",
      "3 | X |   | O | \n",
      " ---------------\n",
      "PC move (O):  1B\n",
      "this space is already taken\n",
      "    A   B   C\n",
      "1 | X | X | O | \n",
      " ---------------\n",
      "2 | O | X | X | \n",
      " ---------------\n",
      "3 | X |   | O | \n",
      " ---------------\n",
      "player move (X): \n",
      "Invalid input: please enter the row and col of your move (Example 1A)\n",
      "    A   B   C\n",
      "1 | X | X | O | \n",
      " ---------------\n",
      "2 | O | X | X | \n",
      " ---------------\n",
      "3 | X |   | O | \n",
      " ---------------\n",
      "PC move (O):  1C\n",
      "this space is already taken\n",
      "    A   B   C\n",
      "1 | X | X | O | \n",
      " ---------------\n",
      "2 | O | X | X | \n",
      " ---------------\n",
      "3 | X |   | O | \n",
      " ---------------\n",
      "player move (X): \n",
      "Invalid input: please enter the row and col of your move (Example 1A)\n",
      "    A   B   C\n",
      "1 | X | X | O | \n",
      " ---------------\n",
      "2 | O | X | X | \n",
      " ---------------\n",
      "3 | X |   | O | \n",
      " ---------------\n",
      "PC move (O):  3C\n",
      "this space is already taken\n",
      "    A   B   C\n",
      "1 | X | X | O | \n",
      " ---------------\n",
      "2 | O | X | X | \n",
      " ---------------\n",
      "3 | X |   | O | \n",
      " ---------------\n",
      "player move (X): \n",
      "Invalid input: please enter the row and col of your move (Example 1A)\n",
      "    A   B   C\n",
      "1 | X | X | O | \n",
      " ---------------\n",
      "2 | O | X | X | \n",
      " ---------------\n",
      "3 | X |   | O | \n",
      " ---------------\n",
      "PC move (O):  3B\n",
      "    A   B   C\n",
      "1 | X | X | O | \n",
      " ---------------\n",
      "2 | O | X | X | \n",
      " ---------------\n",
      "3 | X | O | O | \n",
      " ---------------\n",
      "tie game\n"
     ]
    }
   ],
   "source": [
    "# implementation   \n",
    "print(\"*\"*16)\n",
    "print(\" Tic-Tac-Toe!\")\n",
    "print(\"*\"*16)\n",
    "\n",
    "board= Board()\n",
    "player=Player()\n",
    "pc= Player(\"O\",False)\n",
    "board.print_board()\n",
    "\n",
    "while True:\n",
    "    # ask human user_move\n",
    "    move= player.get_human_move()\n",
    "    # submit move\n",
    "    board.submit_move(move,player)\n",
    "    # print board\n",
    "    board.print_board()\n",
    "    \n",
    "    if board.is_move_valid(move) and board.is_winner(player, move[0],move[1]):\n",
    "        print(\"You win!\")\n",
    "        break\n",
    "    # ask computer player move    \n",
    "    pc_move= pc.get_player_move()\n",
    "    # submit move\n",
    "    board.submit_move(pc_move,pc)\n",
    "    # print board\n",
    "    board.print_board()\n",
    "    \n",
    "    if board.is_winner(pc, pc_move[0],pc_move[1]):\n",
    "        print(\"the computer win\")\n",
    "        break\n",
    "        \n",
    "    if board.check_tie():\n",
    "        print(\"tie game\")\n",
    "        break"
   ]
  },
  {
   "cell_type": "code",
   "execution_count": 173,
   "metadata": {},
   "outputs": [
    {
     "name": "stdout",
     "output_type": "stream",
     "text": [
      "false\n"
     ]
    }
   ],
   "source": [
    "game_board = [['x',0,'o'],\n",
    "                ['x','0','0'],\n",
    "                ['x','0','o']]\n",
    "if [True if i.count(0) == 0 else False for i in game_board ]==[1,1,1]:\n",
    "    print('true')\n",
    "else:\n",
    "    print(\"false\")"
   ]
  },
  {
   "cell_type": "code",
   "execution_count": 155,
   "metadata": {
    "scrolled": true
   },
   "outputs": [
    {
     "name": "stdout",
     "output_type": "stream",
     "text": [
      "[True, True, False]\n"
     ]
    },
    {
     "data": {
      "text/plain": [
       "2"
      ]
     },
     "execution_count": 155,
     "metadata": {},
     "output_type": "execute_result"
    }
   ],
   "source": [
    "init=[]\n",
    "for i in game_board:\n",
    "    if i.count(0)==0:\n",
    "        init.append(True)\n",
    "    else:\n",
    "        init.append(False)\n",
    "print(init)\n",
    "sum(init)"
   ]
  },
  {
   "cell_type": "markdown",
   "metadata": {},
   "source": [
    "sample solution for check tie"
   ]
  },
  {
   "cell_type": "code",
   "execution_count": null,
   "metadata": {},
   "outputs": [],
   "source": [
    "# %load \"Tic-Tac-Toe+Game+-+with+check_tie.py\"\n",
    "import random\n",
    "\n",
    "class Player:\n",
    "\n",
    "    def __init__(self, marker=\"X\", is_human=True):\n",
    "        self._marker = marker\n",
    "        self._is_human = is_human\n",
    "\n",
    "    @property\n",
    "    def marker(self):\n",
    "        return self._marker\n",
    "\n",
    "    @property\n",
    "    def is_human(self):\n",
    "        return self._is_human\n",
    "\n",
    "    def get_player_move(self):\n",
    "        if self._is_human:\n",
    "            return self.get_human_move()\n",
    "        else:\n",
    "            return self.get_computer_move()\n",
    "            \n",
    "    def get_human_move(self):\n",
    "        move = input(\"Player move (X): \")\n",
    "        return move\n",
    "\n",
    "    def get_computer_move(self):\n",
    "        row = random.choice([1, 2, 3])\n",
    "        col = random.choice([\"A\", \"B\", \"C\"])\n",
    "        move = str(row) + col\n",
    "\n",
    "        print(\"Computer move (O): \", move)\n",
    "\n",
    "        return move\n",
    "\n",
    "class Board:\n",
    "\n",
    "    EMPTY = 0\n",
    "    COLUMNS = {\"A\": 0, \"B\": 1, \"C\": 2}\n",
    "    ROWS = (1, 2, 3)\n",
    "\n",
    "    def __init__(self, game_board=None):\n",
    "        if game_board:\n",
    "            self.game_board = game_board\n",
    "        else:\n",
    "            self.game_board = [[0, 0, 0],\n",
    "                               [0, 0, 0],\n",
    "                               [0, 0, 0]]\n",
    "\n",
    "    def print_board(self):\n",
    "        print(\"    A   B   C\")\n",
    "        for i, row in enumerate(self.game_board, 1):\n",
    "            print(i, end=\" | \")\n",
    "            for col in row:\n",
    "                if col != Board.EMPTY:\n",
    "                    print(col, end=\" | \")\n",
    "                else:\n",
    "                    print(\"  | \", end=\"\")\n",
    "            print(\"\\n---------------\")\n",
    "\n",
    "    def submit_move(self, move, player):\n",
    "        if not self.is_move_valid(move):\n",
    "            print(\"Invalid Input: Please Enter the row and column of your move (Example: 1A)\")\n",
    "            return\n",
    "        else:\n",
    "            row_index = int(move[0])-1\n",
    "            col_index = Board.COLUMNS[move[1]]\n",
    "\n",
    "            value = self.game_board[row_index][col_index]\n",
    "\n",
    "            if value == Board.EMPTY:\n",
    "                self.game_board[row_index][col_index] = player.marker\n",
    "            else:\n",
    "                print(\"This space is already taken.\")\n",
    "\n",
    "    def is_move_valid(self, move):\n",
    "        return ((len(move) == 2)\n",
    "            and (int(move[0]) in Board.ROWS)\n",
    "            and (move[1] in Board.COLUMNS))\n",
    "\n",
    "    def is_winner(self, player, row, col):\n",
    "        if self.check_row(row, player):\n",
    "            return True\n",
    "        elif self.check_col(col, player):\n",
    "            return True\n",
    "        elif self.check_diagonal(player):\n",
    "            return True\n",
    "        elif self.check_antidiagonal(player):\n",
    "            return True\n",
    "        else:\n",
    "            return False\n",
    "\n",
    "    def check_row(self, row, player):\n",
    "        row_index = int(row)-1\n",
    "        board_row = self.game_board[row_index]\n",
    "\n",
    "        if board_row.count(player.marker) == 3:\n",
    "            return True\n",
    "        else:\n",
    "            return False\n",
    "\n",
    "    def check_col(self, col, player):\n",
    "        col_index = Board.COLUMNS[col]\n",
    "        total_markers = 0\n",
    "\n",
    "        for i in range(3):\n",
    "            if self.game_board[i][col_index] == player.marker:\n",
    "                total_markers += 1\n",
    "\n",
    "        if total_markers == 3:\n",
    "            return True\n",
    "        else:\n",
    "            return False\n",
    "        \n",
    "    def check_diagonal(self, player):\n",
    "        total_markers = 0\n",
    "\n",
    "        for i in range(3):\n",
    "            if self.game_board[i][i] == player.marker:\n",
    "                total_markers += 1\n",
    "\n",
    "        if total_markers == 3:\n",
    "            return True\n",
    "        else:\n",
    "            return False\n",
    "\n",
    "    def check_antidiagonal(self, player):\n",
    "        total_markers = 0\n",
    "\n",
    "        for i in range(3):\n",
    "            if self.game_board[i][2-i] == player.marker:\n",
    "                total_markers += 1\n",
    "\n",
    "        if total_markers == 3:\n",
    "            return True\n",
    "        else:\n",
    "            return False\n",
    "\n",
    "    def check_tie(self):\n",
    "        total_empty = 0\n",
    "        \n",
    "        for row in self.game_board:\n",
    "            total_empty += row.count(Board.EMPTY)\n",
    "\n",
    "        if total_empty == 0:\n",
    "            return True\n",
    "        else:\n",
    "            return False\n",
    "\n",
    "print(\"**************\")\n",
    "print(\" Tic-Tac-Toe!\")\n",
    "print(\"**************\")\n",
    "\n",
    "board = Board()\n",
    "player = Player()\n",
    "computer = Player(\"O\", False)\n",
    "\n",
    "board.print_board()\n",
    "\n",
    "while True:\n",
    "    # Ask human user move\n",
    "    move = player.get_player_move()\n",
    "    # Submit move\n",
    "    board.submit_move(move, player)\n",
    "    # Print board\n",
    "    board.print_board()\n",
    "\n",
    "    if board.is_move_valid(move) and board.is_winner(player, move[0], move[1]):\n",
    "        print(\"You win!\")\n",
    "        break\n",
    "\n",
    "    # Ask computer player move\n",
    "    comp_move = computer.get_player_move()\n",
    "    # Submit move\n",
    "    board.submit_move(comp_move, computer)\n",
    "    # Print board\n",
    "    board.print_board()\n",
    "\n",
    "    if board.is_winner(computer, comp_move[0], comp_move[1]):\n",
    "        print(\"The Computer Won!\")\n",
    "        break\n",
    "\n",
    "    if board.check_tie():\n",
    "        print(\"There was a tie!\")\n",
    "        break"
   ]
  },
  {
   "cell_type": "markdown",
   "metadata": {},
   "source": [
    "###### Assignment 9: Mini Project | Analyze a Scenario"
   ]
  },
  {
   "cell_type": "code",
   "execution_count": 23,
   "metadata": {},
   "outputs": [],
   "source": [
    "class TODO:\n",
    "    def __init__(self, description, classification, due, priority, Class=None, classroom= None, is_completed=False):\n",
    "        self.description= description\n",
    "        self.classification= classification\n",
    "        self.priority= priority\n",
    "        self.due= due\n",
    "        if self.classification not in [\"Personal\",\"Academic\",\"Work\",\"leisure\"]:\n",
    "            raise ValueError(\"invalid classification\")\n",
    "        if self.priority not in [\"Urgent\",\"Intermediate\",\"Optional\"]:\n",
    "            raise ValueError(\"invalid priority\")\n",
    "        self.Class= Class\n",
    "        self.classroom= classroom\n",
    "        self.is_completed= is_completed\n",
    "    @property\n",
    "    def TODO(self):\n",
    "        return self.TODO\n",
    "    @TODO.deleter\n",
    "    def TODO(self):\n",
    "        if self.is_completed == True:\n",
    "            del self.TODO\n",
    "\n",
    "    def mark_as_completed(self, completed= False):\n",
    "        self.is_completed=completed\n",
    "\n",
    "class Class:\n",
    "    def __init__(self, code, professor, start, end, classroom):\n",
    "        self.code= code\n",
    "        self.professor= professor\n",
    "        self.start= start\n",
    "        self.end= end\n",
    "        self.classroom=classroom\n",
    "        \n",
    "    @property\n",
    "    def Class(self):\n",
    "        return self.Class"
   ]
  },
  {
   "cell_type": "code",
   "execution_count": 19,
   "metadata": {},
   "outputs": [
    {
     "name": "stdout",
     "output_type": "stream",
     "text": [
      "eee\n"
     ]
    }
   ],
   "source": [
    "test=TODO('a','Academic','c','Urgent',\"6\",\"eee\")\n",
    "test.mark_as_completed(True)\n",
    "test.is_completed\n",
    "print(test.classroom)"
   ]
  },
  {
   "cell_type": "code",
   "execution_count": 25,
   "metadata": {},
   "outputs": [
    {
     "data": {
      "text/plain": [
       "'eee'"
      ]
     },
     "execution_count": 25,
     "metadata": {},
     "output_type": "execute_result"
    }
   ],
   "source": [
    "class_test=Class('a','b','c','d','eee')\n",
    "class_test.classroom"
   ]
  },
  {
   "cell_type": "markdown",
   "metadata": {},
   "source": [
    "# `Section 11: Objects in Memory`"
   ]
  },
  {
   "cell_type": "code",
   "execution_count": 26,
   "metadata": {},
   "outputs": [
    {
     "data": {
      "text/plain": [
       "1716669810824"
      ]
     },
     "execution_count": 26,
     "metadata": {},
     "output_type": "execute_result"
    }
   ],
   "source": [
    "names= [\"Kate\",\"John\",\"Gina\"]\n",
    "id(names)"
   ]
  },
  {
   "cell_type": "code",
   "execution_count": 27,
   "metadata": {},
   "outputs": [
    {
     "data": {
      "text/plain": [
       "1716669860616"
      ]
     },
     "execution_count": 27,
     "metadata": {},
     "output_type": "execute_result"
    }
   ],
   "source": [
    "names1= [\"Kate\",\"John\",\"Gina\"]\n",
    "id(names1)"
   ]
  },
  {
   "cell_type": "code",
   "execution_count": 29,
   "metadata": {},
   "outputs": [
    {
     "data": {
      "text/plain": [
       "1716662389576"
      ]
     },
     "execution_count": 29,
     "metadata": {},
     "output_type": "execute_result"
    }
   ],
   "source": [
    "class Circle:\n",
    "    def __init__(self,radius, color):\n",
    "        self.radius= radius\n",
    "        self.color= color\n",
    "        \n",
    "circle1 = Circle(56, \"Red\")\n",
    "id(circle1)"
   ]
  },
  {
   "cell_type": "code",
   "execution_count": 30,
   "metadata": {},
   "outputs": [
    {
     "data": {
      "text/plain": [
       "<__main__.Circle at 0x18fb10d4b48>"
      ]
     },
     "execution_count": 30,
     "metadata": {},
     "output_type": "execute_result"
    }
   ],
   "source": [
    "circle1"
   ]
  },
  {
   "cell_type": "code",
   "execution_count": 31,
   "metadata": {
    "scrolled": false
   },
   "outputs": [
    {
     "data": {
      "text/plain": [
       "'0x18fb10d4b48'"
      ]
     },
     "execution_count": 31,
     "metadata": {},
     "output_type": "execute_result"
    }
   ],
   "source": [
    "hex(id(circle1))"
   ]
  },
  {
   "cell_type": "code",
   "execution_count": 34,
   "metadata": {},
   "outputs": [
    {
     "data": {
      "text/plain": [
       "False"
      ]
     },
     "execution_count": 34,
     "metadata": {},
     "output_type": "execute_result"
    }
   ],
   "source": [
    "b = \"Hello, world!\"\n",
    "c = \"hello, world!\"\n",
    "b is c"
   ]
  },
  {
   "cell_type": "code",
   "execution_count": 36,
   "metadata": {},
   "outputs": [
    {
     "data": {
      "text/plain": [
       "False"
      ]
     },
     "execution_count": 36,
     "metadata": {},
     "output_type": "execute_result"
    }
   ],
   "source": [
    "x = 560\n",
    "y = 560\n",
    "x is y"
   ]
  },
  {
   "cell_type": "code",
   "execution_count": 37,
   "metadata": {},
   "outputs": [
    {
     "data": {
      "text/plain": [
       "False"
      ]
     },
     "execution_count": 37,
     "metadata": {},
     "output_type": "execute_result"
    }
   ],
   "source": [
    "circle2 = Circle(78, \"Blue\")\n",
    "circle1 is circle2"
   ]
  },
  {
   "cell_type": "code",
   "execution_count": 38,
   "metadata": {},
   "outputs": [
    {
     "data": {
      "text/plain": [
       "False"
      ]
     },
     "execution_count": 38,
     "metadata": {},
     "output_type": "execute_result"
    }
   ],
   "source": [
    "circle3 = Circle(56, \"Red\")\n",
    "circle1 is circle3"
   ]
  },
  {
   "cell_type": "code",
   "execution_count": 39,
   "metadata": {},
   "outputs": [
    {
     "data": {
      "text/plain": [
       "1716662389576"
      ]
     },
     "execution_count": 39,
     "metadata": {},
     "output_type": "execute_result"
    }
   ],
   "source": [
    "id(circle1)"
   ]
  },
  {
   "cell_type": "code",
   "execution_count": 40,
   "metadata": {},
   "outputs": [
    {
     "data": {
      "text/plain": [
       "True"
      ]
     },
     "execution_count": 40,
     "metadata": {},
     "output_type": "execute_result"
    }
   ],
   "source": [
    "a = \"H\"\n",
    "b = \"H\"\n",
    "a is b"
   ]
  },
  {
   "cell_type": "markdown",
   "metadata": {},
   "source": [
    "The current implementation (of Python) keeps an array of integer objects for all integers between -5 and 256 . When you create an int in that range you actually just get back a reference to the existing object"
   ]
  },
  {
   "cell_type": "code",
   "execution_count": 41,
   "metadata": {},
   "outputs": [
    {
     "data": {
      "text/plain": [
       "True"
      ]
     },
     "execution_count": 41,
     "metadata": {},
     "output_type": "execute_result"
    }
   ],
   "source": [
    "a = 256\n",
    "b = 256\n",
    "a is b"
   ]
  },
  {
   "cell_type": "code",
   "execution_count": 42,
   "metadata": {},
   "outputs": [
    {
     "data": {
      "text/plain": [
       "False"
      ]
     },
     "execution_count": 42,
     "metadata": {},
     "output_type": "execute_result"
    }
   ],
   "source": [
    "a = 257\n",
    "b = 257\n",
    "a is b"
   ]
  },
  {
   "cell_type": "markdown",
   "metadata": {},
   "source": [
    "# `Section 12: Aliasing, Mutation, and Cloning`\n",
    "\n",
    "cloning will not change the og object, but aliasing will"
   ]
  },
  {
   "cell_type": "code",
   "execution_count": 45,
   "metadata": {},
   "outputs": [
    {
     "data": {
      "text/plain": [
       "1716669684696"
      ]
     },
     "execution_count": 45,
     "metadata": {},
     "output_type": "execute_result"
    }
   ],
   "source": [
    "a = {\"Danny\": 78, \"Emily\": 98, \"Jake\": 56}\n",
    "id(a)"
   ]
  },
  {
   "cell_type": "code",
   "execution_count": 47,
   "metadata": {},
   "outputs": [
    {
     "data": {
      "text/plain": [
       "1716669684696"
      ]
     },
     "execution_count": 47,
     "metadata": {},
     "output_type": "execute_result"
    }
   ],
   "source": [
    "z = a\n",
    "id(z)"
   ]
  },
  {
   "cell_type": "code",
   "execution_count": 49,
   "metadata": {},
   "outputs": [
    {
     "name": "stdout",
     "output_type": "stream",
     "text": [
      "1716662389576\n"
     ]
    },
    {
     "data": {
      "text/plain": [
       "1716662389576"
      ]
     },
     "execution_count": 49,
     "metadata": {},
     "output_type": "execute_result"
    }
   ],
   "source": [
    "my_circle = circle1\n",
    "print(id(my_circle))\n",
    "id(circle1)"
   ]
  },
  {
   "cell_type": "code",
   "execution_count": 50,
   "metadata": {},
   "outputs": [
    {
     "data": {
      "text/plain": [
       "100"
      ]
     },
     "execution_count": 50,
     "metadata": {},
     "output_type": "execute_result"
    }
   ],
   "source": [
    "circle1.radius = 100\n",
    "circle1.radius"
   ]
  },
  {
   "cell_type": "code",
   "execution_count": 51,
   "metadata": {},
   "outputs": [
    {
     "data": {
      "text/plain": [
       "100"
      ]
     },
     "execution_count": 51,
     "metadata": {},
     "output_type": "execute_result"
    }
   ],
   "source": [
    "# using aliasing chaning one will also change another\n",
    "my_circle.radius"
   ]
  },
  {
   "cell_type": "code",
   "execution_count": 52,
   "metadata": {},
   "outputs": [
    {
     "data": {
      "text/plain": [
       "1716672662792"
      ]
     },
     "execution_count": 52,
     "metadata": {},
     "output_type": "execute_result"
    }
   ],
   "source": [
    "a = [6,2,8,3]\n",
    "id(a)"
   ]
  },
  {
   "cell_type": "code",
   "execution_count": 55,
   "metadata": {},
   "outputs": [
    {
     "name": "stdout",
     "output_type": "stream",
     "text": [
      "1716672662792\n"
     ]
    },
    {
     "data": {
      "text/plain": [
       "[6, 2, 8, 6]"
      ]
     },
     "execution_count": 55,
     "metadata": {},
     "output_type": "execute_result"
    }
   ],
   "source": [
    "a[-1]= 6\n",
    "print(id(a))\n",
    "a"
   ]
  },
  {
   "cell_type": "code",
   "execution_count": 56,
   "metadata": {
    "scrolled": true
   },
   "outputs": [
    {
     "ename": "TypeError",
     "evalue": "'tuple' object does not support item assignment",
     "output_type": "error",
     "traceback": [
      "\u001b[1;31m---------------------------------------------------------------------------\u001b[0m",
      "\u001b[1;31mTypeError\u001b[0m                                 Traceback (most recent call last)",
      "\u001b[1;32m<ipython-input-56-03e08be77804>\u001b[0m in \u001b[0;36m<module>\u001b[1;34m\u001b[0m\n\u001b[0;32m      1\u001b[0m \u001b[0mc\u001b[0m \u001b[1;33m=\u001b[0m \u001b[1;33m(\u001b[0m\u001b[1;36m7\u001b[0m\u001b[1;33m,\u001b[0m\u001b[1;36m3\u001b[0m\u001b[1;33m,\u001b[0m\u001b[1;36m2\u001b[0m\u001b[1;33m,\u001b[0m\u001b[1;36m4\u001b[0m\u001b[1;33m)\u001b[0m\u001b[1;33m\u001b[0m\u001b[1;33m\u001b[0m\u001b[0m\n\u001b[1;32m----> 2\u001b[1;33m \u001b[0mc\u001b[0m \u001b[1;33m[\u001b[0m\u001b[1;33m-\u001b[0m\u001b[1;36m1\u001b[0m\u001b[1;33m]\u001b[0m \u001b[1;33m=\u001b[0m \u001b[1;36m6\u001b[0m\u001b[1;33m\u001b[0m\u001b[1;33m\u001b[0m\u001b[0m\n\u001b[0m",
      "\u001b[1;31mTypeError\u001b[0m: 'tuple' object does not support item assignment"
     ]
    }
   ],
   "source": [
    "# tuple is not mutable\n",
    "c = (7,3,2,4)\n",
    "c [-1] = 6"
   ]
  },
  {
   "cell_type": "code",
   "execution_count": 57,
   "metadata": {
    "scrolled": true
   },
   "outputs": [
    {
     "ename": "TypeError",
     "evalue": "unhashable type: 'list'",
     "output_type": "error",
     "traceback": [
      "\u001b[1;31m---------------------------------------------------------------------------\u001b[0m",
      "\u001b[1;31mTypeError\u001b[0m                                 Traceback (most recent call last)",
      "\u001b[1;32m<ipython-input-57-50ee9e78ffa6>\u001b[0m in \u001b[0;36m<module>\u001b[1;34m\u001b[0m\n\u001b[0;32m      1\u001b[0m \u001b[1;31m# dict key cant be mutable\u001b[0m\u001b[1;33m\u001b[0m\u001b[1;33m\u001b[0m\u001b[1;33m\u001b[0m\u001b[0m\n\u001b[1;32m----> 2\u001b[1;33m \u001b[0me\u001b[0m \u001b[1;33m=\u001b[0m \u001b[1;33m{\u001b[0m\u001b[1;33m[\u001b[0m\u001b[1;36m6\u001b[0m\u001b[1;33m,\u001b[0m\u001b[1;36m2\u001b[0m\u001b[1;33m,\u001b[0m\u001b[1;36m4\u001b[0m\u001b[1;33m]\u001b[0m\u001b[1;33m:\u001b[0m \u001b[1;34m\"a\"\u001b[0m\u001b[1;33m,\u001b[0m \u001b[1;33m[\u001b[0m\u001b[1;36m7\u001b[0m\u001b[1;33m,\u001b[0m\u001b[1;36m3\u001b[0m\u001b[1;33m,\u001b[0m\u001b[1;36m5\u001b[0m\u001b[1;33m]\u001b[0m\u001b[1;33m:\u001b[0m\u001b[1;34m\"b\"\u001b[0m\u001b[1;33m}\u001b[0m\u001b[1;33m\u001b[0m\u001b[1;33m\u001b[0m\u001b[0m\n\u001b[0m",
      "\u001b[1;31mTypeError\u001b[0m: unhashable type: 'list'"
     ]
    }
   ],
   "source": [
    "# dict key cant be mutable\n",
    "e = {[6,2,4]: \"a\", [7,3,5]:\"b\"}"
   ]
  },
  {
   "cell_type": "code",
   "execution_count": 59,
   "metadata": {},
   "outputs": [
    {
     "data": {
      "text/plain": [
       "{(6, 2, 4): 'a', (7, 3, 5): 'b'}"
      ]
     },
     "execution_count": 59,
     "metadata": {},
     "output_type": "execute_result"
    }
   ],
   "source": [
    "# but tuple can be keys\n",
    "e = {(6,2,4): \"a\", (7,3,5):\"b\"}\n",
    "e"
   ]
  },
  {
   "cell_type": "markdown",
   "metadata": {},
   "source": [
    "###### Assignment 12: Mini Project | Fix the Code"
   ]
  },
  {
   "cell_type": "code",
   "execution_count": 64,
   "metadata": {},
   "outputs": [
    {
     "name": "stdout",
     "output_type": "stream",
     "text": [
      "9144576\n",
      "[7, 3, 6, 8, 2, 3, 7, 2, 6, 3, 6]\n"
     ]
    }
   ],
   "source": [
    "a = [7, 3, 6, 8, 2, 3, 7, 2, 6, 3, 6]\n",
    "b = a\n",
    "c = b\n",
    "b = c\n",
    " \n",
    "def remove_elem(data, target):\n",
    "    data = data.copy()\n",
    "    for item in data:\n",
    "        if item == target:\n",
    "            data.remove(target)\n",
    "    return data\n",
    "\n",
    "def get_product(data):\n",
    "    data = data.copy()\n",
    "    total = 1\n",
    "    for i in data:\n",
    "        total *= i\n",
    "    return total\n",
    "\n",
    "remove_elem(c, 3)\n",
    "print(get_product(b))\n",
    "print(a)"
   ]
  },
  {
   "cell_type": "markdown",
   "metadata": {},
   "source": [
    "# `Section 13: Inheritance - Attributes`"
   ]
  },
  {
   "cell_type": "code",
   "execution_count": 66,
   "metadata": {},
   "outputs": [],
   "source": [
    "# advertisement -> house adv/ produce adv\n",
    "class Ad:\n",
    "    def __init__(self, owner, link):\n",
    "        self.owner= owner\n",
    "        self.link= link\n",
    "        self.num_views = 0\n",
    "        self.num_clicks = 0\n",
    "\n",
    "class HouseAd(Ad):\n",
    "    def __init__(self, owner, link):\n",
    "        super().__init__(self, owner, link)\n",
    "        self.address = address\n",
    "        self.house_price = house_price\n",
    "        \n",
    "class ProduceAd(Ad):\n",
    "    def __init__(self, owner, link, description, product_price):\n",
    "        super().__init__(self, owner, link)\n",
    "        self.description = description\n",
    "        self.product_price = product_price"
   ]
  },
  {
   "cell_type": "code",
   "execution_count": 72,
   "metadata": {},
   "outputs": [],
   "source": [
    "# product -> butter/shampoo\n",
    "class Product:\n",
    "    def __init__(self, code, price, brand):\n",
    "        self.code = code\n",
    "        self.price = price\n",
    "        self.brand = brand\n",
    "    def display_product_data(self):\n",
    "        print(\"=\"*4, \" Product Data \", \"=\"*4)\n",
    "        print(\"Code: \", self.code)\n",
    "        print(\"Price: \", self.price)\n",
    "        print(\"Bramd: \", self.brand)\n",
    "        \n",
    "class Butter(Product):\n",
    "    def __init__(self, code, price, brand, expiration_date, temp):\n",
    "        Product.__init__(self, code, price, brand)\n",
    "        self.expiration_date = expiration_date\n",
    "        self.temp = temp\n",
    "        \n",
    "class Shampoo(Product):\n",
    "    def __init__(self, code, price, brand, size):\n",
    "        Product.__init__(self, code, price, brand)\n",
    "        self.size = size"
   ]
  },
  {
   "cell_type": "code",
   "execution_count": 75,
   "metadata": {},
   "outputs": [
    {
     "name": "stdout",
     "output_type": "stream",
     "text": [
      "04/05/2020\n"
     ]
    },
    {
     "data": {
      "text/plain": [
       "'10'"
      ]
     },
     "execution_count": 75,
     "metadata": {},
     "output_type": "execute_result"
    }
   ],
   "source": [
    "butter = Butter(\"565\",5.25, \"best buy\",\"04/05/2020\", \"10\")\n",
    "print(butter.expiration_date)\n",
    "butter.temp"
   ]
  },
  {
   "cell_type": "code",
   "execution_count": 79,
   "metadata": {},
   "outputs": [
    {
     "name": "stdout",
     "output_type": "stream",
     "text": [
      "565\n"
     ]
    },
    {
     "data": {
      "text/plain": [
       "'best buy'"
      ]
     },
     "execution_count": 79,
     "metadata": {},
     "output_type": "execute_result"
    }
   ],
   "source": [
    "print(butter.code)\n",
    "butter.brand"
   ]
  },
  {
   "cell_type": "code",
   "execution_count": 80,
   "metadata": {},
   "outputs": [
    {
     "data": {
      "text/plain": [
       "'2.60'"
      ]
     },
     "execution_count": 80,
     "metadata": {},
     "output_type": "execute_result"
    }
   ],
   "source": [
    "butter.price= \"2.60\"\n",
    "butter.price"
   ]
  },
  {
   "cell_type": "code",
   "execution_count": 88,
   "metadata": {},
   "outputs": [],
   "source": [
    "class Mammal:\n",
    "    def __init__(self, name, age, health, num_offspring, years_in_captivity):\n",
    "        self.name = name\n",
    "        self.age = age\n",
    "        self.health = health\n",
    "        self.num_offspring = num_offspring\n",
    "        self.years_in_captivity = years_in_captivity\n",
    "\n",
    "# Define the Panda class below this line\n",
    "class Panda(Mammal):\n",
    "    is_endangered = True\n",
    "    def __init__(self, name, age, health, num_offspring, years_in_captivity, code):\n",
    "        Mammal.__init__(self, name, age, health, num_offspring, years_in_captivity)\n",
    "        self.code = code     "
   ]
  },
  {
   "cell_type": "code",
   "execution_count": 89,
   "metadata": {
    "scrolled": true
   },
   "outputs": [
    {
     "data": {
      "text/plain": [
       "True"
      ]
     },
     "execution_count": 89,
     "metadata": {},
     "output_type": "execute_result"
    }
   ],
   "source": [
    "my_panda = Panda('a','b','c','d','e','f')\n",
    "my_panda.is_endangered"
   ]
  },
  {
   "cell_type": "code",
   "execution_count": 99,
   "metadata": {},
   "outputs": [],
   "source": [
    "class Pizza:\n",
    "    def __init__(self, size, toppings, price, rating):\n",
    "        self.size = size          # \"Small\", \"Medium\", or \"Large\"\n",
    "        self.toppings = toppings  # A list of toppings\n",
    "        self.price = price\n",
    "        self.rating = rating      # Scale from 1 to 5\n",
    "\n",
    "# Add the subclasses below this line\n",
    "class PizzaMargherita(Pizza):\n",
    "    def __init__(self, size, toppings, price, rating, has_extra_cheese):\n",
    "        Pizza.__init__(self, size, toppings, price, rating)\n",
    "        self.has_extra_cheese = has_extra_cheese\n",
    "        \n",
    "class PizzaMarinara(Pizza):\n",
    "    def __init__(self, size, toppings, price, rating, has_extra_basil):\n",
    "        Pizza.__init__(self, size, toppings, price, rating)\n",
    "        self.has_extra_basil = has_extra_basil"
   ]
  },
  {
   "cell_type": "code",
   "execution_count": 101,
   "metadata": {},
   "outputs": [],
   "source": [
    "margherita = PizzaMargherita('a','b','c','d', 'e')\n",
    "marinara = PizzaMarinara('1','2','3','4','5')"
   ]
  },
  {
   "cell_type": "code",
   "execution_count": 102,
   "metadata": {},
   "outputs": [
    {
     "data": {
      "text/plain": [
       "'a'"
      ]
     },
     "execution_count": 102,
     "metadata": {},
     "output_type": "execute_result"
    }
   ],
   "source": [
    "margherita.size"
   ]
  },
  {
   "cell_type": "markdown",
   "metadata": {},
   "source": [
    "###### Assignment 13: Practice | From Hierarchy to Code"
   ]
  },
  {
   "cell_type": "code",
   "execution_count": 96,
   "metadata": {},
   "outputs": [],
   "source": [
    "class Electronic_Device:\n",
    "    def __init__(self, code):\n",
    "        self.code = code\n",
    "\n",
    "class PC(Electronic_Device):\n",
    "    def __init__(self, code, model):\n",
    "        Electronic_Device.__init__(self, code)\n",
    "        self.model = model\n",
    "        \n",
    "class TV(Electronic_Device):\n",
    "    def __init__(self, code, brand):\n",
    "        Electronic_Device.__init__(self, code)\n",
    "        self.brand = brand\n",
    "\n",
    "class Desktop(PC):\n",
    "    def __init__(self, code, model, price):\n",
    "        PC.__init__(self, code, model)\n",
    "        self.price = price\n",
    "        \n",
    "class Laptop(PC):\n",
    "    def __init__(self, code, model, size):\n",
    "        PC.__init__(self, code, model)\n",
    "        self.size = size"
   ]
  },
  {
   "cell_type": "code",
   "execution_count": 98,
   "metadata": {},
   "outputs": [
    {
     "data": {
      "text/plain": [
       "'a'"
      ]
     },
     "execution_count": 98,
     "metadata": {},
     "output_type": "execute_result"
    }
   ],
   "source": [
    "dt = Desktop('a','b',100)\n",
    "dt.code"
   ]
  },
  {
   "cell_type": "markdown",
   "metadata": {},
   "source": [
    "###### Assignment 14: Mini Project | Video Game Inheritance"
   ]
  },
  {
   "cell_type": "code",
   "execution_count": 106,
   "metadata": {},
   "outputs": [],
   "source": [
    "# %load \"Mini+Project+-+Videogame+Inheritance.py\"\n",
    "class Sprite:\n",
    "    \n",
    "    def __init__(self, x, y, img_file, speed, life_counter):\n",
    "        self.x = x\n",
    "        self.y = y\n",
    "        self.img_file = img_file\n",
    "        self.speed = speed\n",
    "        self.life_counter = life_counter\n",
    "\n",
    "class Enemy(Sprite):\n",
    "\n",
    "    def __init__(self, x, y, img_file, speed):\n",
    "        Sprite.__init__(self, x, y, img_file, speed, 5)\n",
    "        self.message = \"I'm here to protect my master\"\n",
    "\n",
    "class Player(Sprite):\n",
    "    # Subclass doesn’t need to contain all the parameters from superclass\n",
    "    # it can also setup default values for superclass:\n",
    "    def __init__(self, x, y, img_file, speed=56, life_counter=6):\n",
    "        Sprite.__init__(self, x, y, img_file, speed, life_counter)\n",
    "\n",
    "class DifficultEnemy(Enemy):\n",
    "    \n",
    "    def __init__(self, x, y, img_file):\n",
    "        Enemy.__init__(self, x, y, img_file, 80)\n",
    "\n",
    "class EasyEnemy(Enemy):\n",
    "    \n",
    "    def __init__(self, x, y, img_file):\n",
    "        Enemy.__init__(self, x, y, img_file, 40)\n",
    "        self.life_counter = 1"
   ]
  },
  {
   "cell_type": "markdown",
   "metadata": {},
   "source": [
    "# `Section 14: Inheritance - Methods`"
   ]
  },
  {
   "cell_type": "code",
   "execution_count": 2,
   "metadata": {},
   "outputs": [],
   "source": [
    "class Teacher:\n",
    "    def __init__(self, name, age, class_code):\n",
    "        self.name = name\n",
    "        self.age = age\n",
    "        self.class_code = class_code\n",
    "    \n",
    "    def welcome_student(self):\n",
    "        print(\"welcome, student...\")\n",
    "        \n",
    "class PhysicsTeacher(Teacher):\n",
    "    def welcome(self):\n",
    "        Teacher.welcome_student(self)\n",
    "        print(\"lets start our physics class\")\n",
    "        \n",
    "class BiogyTeacher(Teacher):\n",
    "    def welcome(self):\n",
    "        Teacher.welcome_student(self)"
   ]
  },
  {
   "cell_type": "code",
   "execution_count": 7,
   "metadata": {},
   "outputs": [
    {
     "name": "stdout",
     "output_type": "stream",
     "text": [
      "welcome, student...\n",
      "lets start our physics class\n"
     ]
    }
   ],
   "source": [
    "teacher1 = PhysicsTeacher('a','b','c')\n",
    "teacher1.welcome()"
   ]
  },
  {
   "cell_type": "code",
   "execution_count": 13,
   "metadata": {},
   "outputs": [
    {
     "name": "stdout",
     "output_type": "stream",
     "text": [
      "Hi everyone! It's a great day to study Science!\n",
      "Welcome to class!\n"
     ]
    }
   ],
   "source": [
    "class Professor:\n",
    "    def __init__(self, name, age, course):\n",
    "        self.name = name\n",
    "        self.age = age\n",
    "        self.course = course\n",
    "        \n",
    "    def greet_students(self):\n",
    "        print(\"Welcome to class!\")\n",
    "\n",
    "# Define your class below this line\n",
    "class ScienceProfessor(Professor):\n",
    "    def greet_students(self):\n",
    "        print(\"Hi everyone! It's a great day to study Science!\")\n",
    "        Professor.greet_students(self)\n",
    "        \n",
    "science_professor = ScienceProfessor('a','b','c')\n",
    "science_professor.greet_students()"
   ]
  },
  {
   "cell_type": "markdown",
   "metadata": {},
   "source": [
    "overriding: to expand the functionaility of an existing method"
   ]
  },
  {
   "cell_type": "code",
   "execution_count": 30,
   "metadata": {},
   "outputs": [
    {
     "name": "stdout",
     "output_type": "stream",
     "text": [
      "welcome, student...\n",
      "let's start our biology class\n"
     ]
    }
   ],
   "source": [
    "class Teacher:\n",
    "    def __init__(self, name, age, class_code):\n",
    "        self.name = name\n",
    "        self.age = age\n",
    "        self.class_code = class_code\n",
    "    \n",
    "    def welcome_student(self):\n",
    "        print(\"welcome, student...\")\n",
    "\n",
    "class BiogyTeacher(Teacher):\n",
    "    # same name as superclass, superclass method will get overriden\n",
    "    def welcome_student(self):\n",
    "        # in order to call method from the superclass after overriden\n",
    "        # Teacher.welcome_student(self)\n",
    "        \n",
    "        # alternative sytax use super(). this omit self\n",
    "        super().welcome_student()\n",
    "        \n",
    "        # expand functionality\n",
    "        print(\"let's start our biology class\")\n",
    "        \n",
    "bio_teacher = BiogyTeacher(\"Jhon\", 56, 203)\n",
    "bio_teacher.welcome_student()"
   ]
  },
  {
   "cell_type": "code",
   "execution_count": 25,
   "metadata": {},
   "outputs": [
    {
     "name": "stdout",
     "output_type": "stream",
     "text": [
      "Welcome to our store! What dount would you like to eat?\n"
     ]
    }
   ],
   "source": [
    "class Store:\n",
    "    def __init__(self, name, address, num_employees):\n",
    "        self.name = name\n",
    "        self.address = address\n",
    "        self.num_employees = num_employees\n",
    "        \n",
    "    def greet_customers(self):\n",
    "        print(\"Welcome to our store! What would you like to buy?\")\n",
    "        \n",
    "# Create your DonutStore class below this line\n",
    "class DonutStore(Store):\n",
    "    def greet_customers(self):\n",
    "        print(\"Welcome to our store! What donut would you like to eat?\")\n",
    "\n",
    "        \n",
    "my_donut_store = DonutStore(\"a\",\"b\",1)\n",
    "my_dount_store.greet_customers()"
   ]
  },
  {
   "cell_type": "markdown",
   "metadata": {},
   "source": [
    "###### Assignment 15: Mini Project | Vending Machines and Method Inheritance"
   ]
  },
  {
   "cell_type": "code",
   "execution_count": 47,
   "metadata": {
    "scrolled": true
   },
   "outputs": [
    {
     "name": "stdout",
     "output_type": "stream",
     "text": [
      "\n",
      "============ Welcome to our School Vending Machine ============ \n",
      "We hope you have a great day full of learning!\n",
      "\n",
      "Welcome! I have:\n",
      "\n",
      "(1) Candy\n",
      "(2) Soda\n",
      "(3) Chips\n",
      "(4) Cookies\n",
      "\n",
      "Please enter the number of the item: 1\n",
      "\n",
      "You selected: Candy\n",
      "Great! I currently have 36 candy in my inventory\n",
      "\n",
      "How many candy would you like to buy?\n",
      "2\n",
      "That would be: $ 2\n",
      "\n",
      "Thank you for your purchase!\n",
      "Now I have 34 candy and my revenue is $2\n",
      "\n",
      "Would you like to buy another snack?\n",
      "Enter 1 for YES and 0 for NO: 0\n"
     ]
    }
   ],
   "source": [
    "# %load \"Mini+Project+-+Inheritance+(Methods)+-+VendingMachine.py\"\n",
    "class VendingMachine:\n",
    " \n",
    "    total_revenue = 0 # Total revenue of all vending machines in the system\n",
    " \n",
    "    snack_prices = {\"candy\": 2.00, \"soda\": 1.50, \"chips\": 3.00, \"cookies\": 3.50}\n",
    " \n",
    "    # Instance attributes\n",
    "    def __init__(self, inventory, serial, days_until_maintenance):\n",
    "        self.inventory = inventory # dictionary with {<snack>: <amount>} as key-value pairs. Possible snacks: candy, soda, chips, cookies. Keys written in lowercase.\n",
    "        self.revenue = 0           # Initially, when an instance of the vending machine is created, the revenue is 0 and it's updated with each sale.\n",
    "        self.serial = serial\n",
    "        self.days_until_maintenance = days_until_maintenance\n",
    " \n",
    "    # Method that displays an interactive menu to process a sale.\n",
    "    # Displays the options, gets user input to select the snack, and calls\n",
    "    # another method to process the sale.\n",
    "    def sales_menu(self):\n",
    " \n",
    "        # The user has the option to buy several types of snacks\n",
    "        # so the program is repeated if the user indicates that he/she\n",
    "        # would like to buy another snack\n",
    "        while True:\n",
    " \n",
    "            greetings = \"\\nWelcome! I have:\\n\"\n",
    "            request = \"\\nPlease enter the number of the item: \"\n",
    " \n",
    "            # Print a welcome message with the snacks available\n",
    "            print(greetings)\n",
    " \n",
    "            i = 1\n",
    "            for snack in self.inventory:\n",
    "                print(\"(\" + str(i) + \") \" + snack.capitalize())\n",
    "                i += 1\n",
    " \n",
    "            # Get the user input (option selected)\n",
    "            cust_input = int(input(request))\n",
    " \n",
    "            # Repeat if the input doesn't meet the requirements\n",
    "            while cust_input <= 0 or cust_input > len(self.inventory):\n",
    "                print(\"Please enter a number from 1 to\", len(self.inventory))\n",
    "                # Get the user input (option selected)\n",
    "                cust_input = int(input(request))\n",
    "        \n",
    "            # Display appropriate message\n",
    "            self.process_sale(list(self.inventory.keys())[cust_input - 1].lower())\n",
    "            answer = int(input(\"\\nWould you like to buy another snack?\\nEnter 1 for YES and 0 for NO: \"))\n",
    " \n",
    "            # If the customer does not wish to buy another snack\n",
    "            if not answer:\n",
    "                break\n",
    " \n",
    " \n",
    "    # Method that processes the sale by asking the user how many snacks of that type\n",
    "    # he/she would like to buy and calls another method to opdate the inventory\n",
    "    def process_sale(self, option): # option must be in lowercase\n",
    "        \n",
    "        print(\"\\nYou selected: %s\" % option.capitalize())\n",
    "        \n",
    "        if self.inventory[option] > 0:\n",
    "            \n",
    "            # Display current snack inventory and product\n",
    "            print(\"Great! I currently have %d %s in my inventory\\n\" % (self.inventory[option], option))\n",
    "            \n",
    "            # Ask for the number of snacks\n",
    "            num_items = int(input(\"How many %s would you like to buy?\\n\" % option))\n",
    " \n",
    "            # Handle cases where user might enter a negative number or zero\n",
    "            while num_items <= 0:\n",
    "                print(\"Please enter a positive integer\")\n",
    "                num_items = int(input(\"\\nHow many %s would you like to buy?\\n\" % option))\n",
    " \n",
    "            # Update inventory if there are enough snacks available\n",
    "            if num_items <= self.inventory[option]:\n",
    "                self.remove_from_inventory(option, num_items)\n",
    "                \n",
    "                # Update the machine's revenue\n",
    "                total = self.update_revenue(option, num_items)\n",
    " \n",
    "                print(\"That would be: $ \" + str(total))\n",
    " \n",
    "                # Display a message confirming the purchase and current inventory\n",
    "                print(\"\\nThank you for your purchase!\")\n",
    "                print(\"Now I have %d %s and my revenue is $%d\" % (self.inventory[option], option, self.revenue))\n",
    "                \n",
    "            else:\n",
    "                print(\"I don't have so many %s. Sorry! :(\" % option)\n",
    "                \n",
    "        else:\n",
    "            print(\"I don't have any more %s. Sorry! :(\" % option)\n",
    " \n",
    " \n",
    "    # Method that updates the vending machine's (instance) inventory by\n",
    "    # decrementing the availability of the snack chosen.\n",
    "    def remove_from_inventory(self, option, num_items):\n",
    "        self.inventory[option] -= num_items\n",
    " \n",
    "    # Update the revenue of the instance of VendingMachine\n",
    "    # and update the class attribute total revenue.\n",
    "    def update_revenue(self, option, num_items):\n",
    "        # Find price of the snack\n",
    "        price = self.find_snack_price(option)\n",
    " \n",
    "        # Update Instance and class\n",
    "        self.revenue += num_items * price\n",
    "        VendingMachine.total_revenue += num_items * price\n",
    " \n",
    "        return num_items * price\n",
    " \n",
    "    # Find the price of the snack selected in the class attribute\n",
    "    # and return it\n",
    "    def find_snack_price(self, snack):\n",
    "        return VendingMachine.snack_prices[snack]        \n",
    "        \n",
    "    # Method that prints a message with the total revenue of the instance of VendingMachine\n",
    "    def display_revenue(self):\n",
    "        print(\"The total revenue of this vending machine is:\", self.revenue)\n",
    "                      \n",
    " \n",
    "# Subclasses =============================================================================================\n",
    "            \n",
    " \n",
    "class HospitalVendingMachine(VendingMachine):\n",
    "    # Complete the class\n",
    "    \n",
    "    # Add a class attribute snack_prices in these two subclasses to replace the value defined in the superclass\n",
    "    snack_prices = {\"candy\": 1, \"soda\": 2, \"chips\": 3, \"cookies\": 4}\n",
    "    \n",
    "    def sales_menu(self):\n",
    "        # override the sales_menu to print customized greeting first\n",
    "        print(\"\\n============ Welcome to our Hospital Vending Machine ============ \\nWe hope you are feeling better today!\\n\")\n",
    "        VendingMachine.sales_menu(self)\n",
    "        \n",
    "    # override find_snack_price make them use the class attribute that corresponds to the subclass\n",
    "    def find_snack_price(self, snack):\n",
    "        return HospitalVendingMachine.snack_prices[snack]\n",
    "    \n",
    "    def print_days_until_maintenance(self):\n",
    "        print(f\"{VendingMachine.days_until_maintenance} days until maintenance\")\n",
    " \n",
    "class SchoolVendingMachine(VendingMachine):\n",
    "    # Complete the class\n",
    "    \n",
    "    # Add a class attribute snack_prices in these two subclasses to replace the value defined in the superclass\n",
    "    snack_prices = {\"candy\": 1, \"soda\": 2, \"chips\": 3, \"cookies\": 4}\n",
    "    # class attribute student_debt\n",
    "    student_debt = {'S1': 0, 'S2':0}\n",
    "    \n",
    "    # override the sales_menu to print customized greeting first\n",
    "    def sales_menu(self):\n",
    "        print(\"\\n============ Welcome to our School Vending Machine ============ \\nWe hope you have a great day full of learning!\")\n",
    "        VendingMachine.sales_menu(self)\n",
    "        \n",
    "    # override find_snack_price make them use the class attribute that corresponds to the subclass\n",
    "    def find_snack_price(self, snack):\n",
    "        return SchoolVendingMachine.snack_prices[snack]\n",
    "    \n",
    "    def print_student_debt(self, name):\n",
    "        print(f\"{name} owns {self.student_debt[name]}\")\n",
    "    \n",
    "# Instances =============================================================================================\n",
    " \n",
    "floor_machine = VendingMachine({\"candy\": 36, \"soda\": 15, \"chips\": 40, \"cookies\": 120}, \"011423424\", 24)\n",
    "#floor_machine.sales_menu()\n",
    " \n",
    "hospital_machine = HospitalVendingMachine({\"candy\": 32, \"soda\": 50, \"chips\": 45, \"cookies\": 80}, \"03223424\", 15)\n",
    "# hospital_machine.sales_menu()\n",
    " \n",
    "school_machine = SchoolVendingMachine({\"candy\": 36, \"soda\": 15, \"chips\": 40, \"cookies\": 120}, \"0534424\", 2)\n",
    "school_machine.sales_menu()\n"
   ]
  },
  {
   "cell_type": "code",
   "execution_count": 36,
   "metadata": {
    "scrolled": true
   },
   "outputs": [
    {
     "data": {
      "text/plain": [
       "15"
      ]
     },
     "execution_count": 36,
     "metadata": {},
     "output_type": "execute_result"
    }
   ],
   "source": [
    "hospital_machine.days_until_maintenance"
   ]
  },
  {
   "cell_type": "code",
   "execution_count": 48,
   "metadata": {},
   "outputs": [
    {
     "name": "stdout",
     "output_type": "stream",
     "text": [
      "S1 owns 0\n"
     ]
    }
   ],
   "source": [
    "school_machine.print_student_debt('S1')"
   ]
  },
  {
   "cell_type": "markdown",
   "metadata": {},
   "source": [
    "# `Section 15: Working with Multiple Files & Import Statements`"
   ]
  }
 ],
 "metadata": {
  "kernelspec": {
   "display_name": "Python 3",
   "language": "python",
   "name": "python3"
  },
  "language_info": {
   "codemirror_mode": {
    "name": "ipython",
    "version": 3
   },
   "file_extension": ".py",
   "mimetype": "text/x-python",
   "name": "python",
   "nbconvert_exporter": "python",
   "pygments_lexer": "ipython3",
   "version": "3.7.7"
  }
 },
 "nbformat": 4,
 "nbformat_minor": 2
}
